{
 "cells": [
  {
   "cell_type": "markdown",
   "metadata": {},
   "source": [
    "# Pandas"
   ]
  },
  {
   "cell_type": "code",
   "execution_count": 37,
   "metadata": {},
   "outputs": [
    {
     "data": {
      "text/plain": [
       "Loan_ID               0\n",
       "Gender               13\n",
       "Married               3\n",
       "Dependents           15\n",
       "Education             0\n",
       "Self_Employed         0\n",
       "ApplicantIncome       0\n",
       "CoapplicantIncome     0\n",
       "LoanAmount           22\n",
       "Loan_Amount_Term     14\n",
       "Credit_History       50\n",
       "Property_Area         0\n",
       "Loan_Status           0\n",
       "dtype: int64"
      ]
     },
     "execution_count": 37,
     "metadata": {},
     "output_type": "execute_result"
    },
    {
     "data": {
      "image/png": "[encoded data removed]",
      "text/plain": [
       "<Figure size 432x288 with 1 Axes>"
      ]
     },
     "metadata": {},
     "output_type": "display_data"
    }
   ],
   "source": [
    "import pandas as pd\n",
    "import matplotlib as plt\n",
    "import numpy as np\n",
    "# %matplotlib inline\n",
    "\n",
    "df = pd.read_csv(\"C:/Users/JG/loan_train.csv\")\n",
    "\n",
    "df['ApplicantIncome'].hist(bins=50)\n",
    "\n",
    " # Fills in null values in column with 'No'\n",
    "df['Self_Employed'].fillna('No', inplace=True)\n",
    "\n",
    "df.apply(lambda x: sum(x.isnull()), axis=0)"
   ]
  },
  {
   "cell_type": "code",
   "execution_count": null,
   "metadata": {},
   "outputs": [],
   "source": [
    "print(df.Loan_ID.repeat(2).head(15)) # Each row becomes two rows\n",
    "print(df.Loan_ID.apply(len)) # Example of using .apply"
   ]
  },
  {
   "cell_type": "code",
   "execution_count": 40,
   "metadata": {},
   "outputs": [
    {
     "name": "stdout",
     "output_type": "stream",
     "text": [
      "0    LP001002\n",
      "1    LP001003\n",
      "2    LP001005\n",
      "3    LP001006\n",
      "4    LP001008\n",
      "Name: Loan_ID, dtype: object\n"
     ]
    }
   ],
   "source": [
    "print(df.iloc[:, 0].head()) # Takes a slice of the dataframe df using integer indexing"
   ]
  },
  {
   "cell_type": "code",
   "execution_count": null,
   "metadata": {},
   "outputs": [],
   "source": [
    "df.column.resample('D') # Would resample on days, if the index is datetime-like or if a datetime-like column is passed to on/level keyword\n",
    "# https://pandas.pydata.org/pandas-docs/stable/generated/pandas.DataFrame.resample.html"
   ]
  },
  {
   "cell_type": "markdown",
   "metadata": {},
   "source": [
    "# Broadcasting in Python"
   ]
  },
  {
   "cell_type": "code",
   "execution_count": 10,
   "metadata": {},
   "outputs": [
    {
     "name": "stdout",
     "output_type": "stream",
     "text": [
      "[15 18 21 24]\n",
      "[[15 18 21 24]]\n",
      "[[ 6.66666667 11.11111111 14.28571429 16.66666667]\n",
      " [33.33333333 33.33333333 33.33333333 33.33333333]\n",
      " [60.         55.55555556 52.38095238 50.        ]]\n"
     ]
    }
   ],
   "source": [
    "import numpy as np\n",
    "\n",
    "A = np.array([[1, 2, 3, 4],\n",
    "            [5, 6, 7, 8],\n",
    "            [9, 10, 11, 12]])\n",
    "\n",
    "# axis=0 sums vertically, axis=1 sums horizontally\n",
    "columnSum = A.sum(axis=0)\n",
    "\n",
    "print(columnSum)\n",
    "print(columnSum.reshape(1,4))\n",
    "percentage = 100*A/columnSum.reshape(1,4)\n",
    "print(percentage)"
   ]
  },
  {
   "cell_type": "markdown",
   "metadata": {},
   "source": [
    "# Useful Python functions"
   ]
  },
  {
   "cell_type": "markdown",
   "metadata": {},
   "source": [
    "__Collections__"
   ]
  },
  {
   "cell_type": "code",
   "execution_count": null,
   "metadata": {},
   "outputs": [],
   "source": [
    "from collections import Counter\n",
    "list = [1,1,2,3]\n",
    "Counter(list)  # returns a tallied count of list elements\n",
    "Counter(list).items()  # returns dict_items \n",
    "frozenset(Counter(list).items()) # returns an unordered set of the iterable – i.e. comparing two frozensets of iterables with the same elements in different orders returns True. CAN BE USED AS DICT KEY\n",
    "dict.get(key, 0)  # returns dict[key] if key is found, otherwise returns 0\n",
    "dict[key] = dict.get(key, 0) + 1  # useful usage of the above\n",
    "x = collections.defaultdict(set)  # if x[key] is called and key does not exist, will create an empty set() object\n",
    "\n",
    "super_villains = {'Fruit' : 'Apple', 'Vegetable' : 'Celery'}\n",
    "del super_villains['Fruit']\n",
    "print(super_villains) # Returns {'Vegetable': 'Celery'}"
   ]
  },
  {
   "cell_type": "markdown",
   "metadata": {},
   "source": [
    "__Functions__"
   ]
  },
  {
   "cell_type": "code",
   "execution_count": null,
   "metadata": {},
   "outputs": [],
   "source": [
    "square = lambda x : x*x  # lambdas"
   ]
  },
  {
   "cell_type": "markdown",
   "metadata": {},
   "source": [
    "__File I/O__"
   ]
  },
  {
   "cell_type": "code",
   "execution_count": null,
   "metadata": {},
   "outputs": [],
   "source": [
    "test_file = open(“text.txt”, “wb”) # wb enables write to file. Use “r+” for read+write\n",
    "print(test_file.mode) # outputs wb"
   ]
  },
  {
   "cell_type": "markdown",
   "metadata": {},
   "source": [
    "__Misc__"
   ]
  },
  {
   "cell_type": "code",
   "execution_count": null,
   "metadata": {},
   "outputs": [],
   "source": [
    "from itertools import chain\n",
    "x = ['ABC', 'DEF', 'GHJ']\n",
    "for i in chain(*x): # chain breaks each argument into smallest iterable unit, * unpacks argument list\n",
    "    print(i)\n"
   ]
  },
  {
   "cell_type": "markdown",
   "metadata": {},
   "source": [
    "__Testing__"
   ]
  },
  {
   "cell_type": "code",
   "execution_count": 36,
   "metadata": {},
   "outputs": [
    {
     "name": "stdout",
     "output_type": "stream",
     "text": [
      "True\n"
     ]
    },
    {
     "ename": "AssertionError",
     "evalue": "",
     "output_type": "error",
     "traceback": [
      "\u001b[1;31m---------------------------------------------------------------------------\u001b[0m",
      "\u001b[1;31mAssertionError\u001b[0m                            Traceback (most recent call last)",
      "\u001b[1;32m<ipython-input-36-ac58d1ed8a77>\u001b[0m in \u001b[0;36m<module>\u001b[1;34m()\u001b[0m\n\u001b[0;32m      1\u001b[0m \u001b[1;32massert\u001b[0m \u001b[1;36m1\u001b[0m \u001b[1;33m==\u001b[0m \u001b[1;36m1\u001b[0m\u001b[1;33m\u001b[0m\u001b[0m\n\u001b[0;32m      2\u001b[0m \u001b[0mprint\u001b[0m\u001b[1;33m(\u001b[0m\u001b[1;32mTrue\u001b[0m\u001b[1;33m)\u001b[0m\u001b[1;33m\u001b[0m\u001b[0m\n\u001b[1;32m----> 3\u001b[1;33m \u001b[1;32massert\u001b[0m \u001b[1;36m1\u001b[0m \u001b[1;33m==\u001b[0m \u001b[1;36m2\u001b[0m\u001b[1;33m\u001b[0m\u001b[0m\n\u001b[0m",
      "\u001b[1;31mAssertionError\u001b[0m: "
     ]
    }
   ],
   "source": [
    "assert 1 == 1\n",
    "print(True)\n",
    "assert 1 == 2"
   ]
  }
 ],
 "metadata": {
  "kernelspec": {
   "display_name": "Python 3",
   "language": "python",
   "name": "python3"
  },
  "language_info": {
   "codemirror_mode": {
    "name": "ipython",
    "version": 3
   },
   "file_extension": ".py",
   "mimetype": "text/x-python",
   "name": "python",
   "nbconvert_exporter": "python",
   "pygments_lexer": "ipython3",
   "version": "3.6.5"
  }
 },
 "nbformat": 4,
 "nbformat_minor": 2
}
