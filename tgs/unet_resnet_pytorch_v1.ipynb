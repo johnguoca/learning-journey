{
 "cells": [
  {
   "cell_type": "code",
   "execution_count": 1,
   "metadata": {
    "scrolled": true
   },
   "outputs": [
    {
     "name": "stdout",
     "output_type": "stream",
     "text": [
      "Program started at: 1539227033.2828968\n",
      "['uresnetv1e34.pt', 'sample_submission.csv', 'ff kNN.ipynb', 'uresnetv1e42.pt', 'EDA and LSTM tf.ipynb', 'test.zip', 'uresnetv1e43.pt', 'unet_resnet_pytorch.ipynb', 'uresnetv1e0.pt', 'train', 'uresnetv1e22.pt', 'uresnetv1e39.pt', 'uresnetv1e27.pt', 'uresnetv1e31.pt', 'uresnetv1e18.pt', 'depths.csv', 'uresnetv1e6.pt', 'uresnetv1e10.pt', 'uresnetv1e46.pt', 'uresnetv1e19.pt', 'uresnetv1e14.pt', 'uresnetv1e35.pt', 'uresnetv1e24.pt', 'uresnetv1e13.pt', 'uresnetv1e11.pt', 'uresnetv1e3.pt', 'train.zip', 'uresnetv1e30.pt', 'uresnetv1e25.pt', '.ipynb_checkpoints', 'unet_resnet_v0.model', 'uresnetv1e28.pt', 'uresnetv1e20.pt', 'resnet_unet_v0.ipynb', 'uresnetv1e15.pt', 'train.csv', 'submission.csv', 'uresnetv1e1.pt', 'test', 'uresnetv1e8.pt', 'uresnetv1e33.pt', 'uresnetv1e32.pt', 'uresnetv1e36.pt', 'unet_resnet_pytorch_v1.ipynb', 'uresnetv1e2.pt', 'uresnetv1e41.pt', 'uresnetv1e47.pt', 'EDA and LSTM.ipynb', 'uresnetv1e45.pt', 'registryupload_1.csv', 'uresnetv1e21.pt', 'unet_resnet_v0.csv', 'uresnetv1e26.pt', 'uresnetv1e48.pt', 'uresnetv1e9.pt', 'kNN_rmse.csv', 'uresnetv1e17.pt', 'uresnetv1e40.pt', 'uresnetv1e37.pt', 'uresnetv1e5.pt', 'uresnetv1e44.pt', 'uresnetv1e29.pt', 'uresnetv1e16.pt', 'uresnetv1e4.pt', 'uresnetv1e7.pt', 'uresnetv1e38.pt', 'unet_resnet_pytorch_v1-Copy1.ipynb', 'uresnetv1e23.pt', 'uresnetv1e49.pt', 'kNN_results.csv', 'registryupload_2.csv', 'uresnetv1e12.pt']\n"
     ]
    }
   ],
   "source": [
    "import os\n",
    "import sys\n",
    "import random\n",
    "\n",
    "import pandas as pd\n",
    "import numpy as np\n",
    "import matplotlib.pyplot as plt\n",
    "plt.style.use('seaborn-white')\n",
    "# import seaborn as sns\n",
    "# sns.set_style(\"white\")\n",
    "\n",
    "%matplotlib inline\n",
    "\n",
    "import cv2\n",
    "from sklearn.model_selection import train_test_split\n",
    "from tqdm import tqdm_notebook #, tnrange\n",
    "\n",
    "#from itertools import chain\n",
    "# from skimage.io import imread, imshow #, concatenate_images\n",
    "# from skimage.transform import resize\n",
    "# from skimage.morphology import label\n",
    "\n",
    "import torch\n",
    "import torchvision\n",
    "from torch import nn\n",
    "from torch.nn import functional as F\n",
    "from torch.utils import data\n",
    "from torchvision import models\n",
    "import torch.utils.model_zoo as model_zoo\n",
    "\n",
    "import time\n",
    "t_start = time.time()\n",
    "\n",
    "print(\"Program started at:\", t_start)\n",
    "print(os.listdir())"
   ]
  },
  {
   "cell_type": "code",
   "execution_count": 2,
   "metadata": {},
   "outputs": [
    {
     "name": "stdout",
     "output_type": "stream",
     "text": [
      "Network architecture created.\n"
     ]
    }
   ],
   "source": [
    "# Resnet34 encoder from https://github.com/pytorch/vision/blob/master/torchvision/models/resnet.py\n",
    "__all__ = ['ResNet', 'resnet18', 'resnet34', 'resnet50', 'resnet101',\n",
    "           'resnet152']\n",
    "\n",
    "\n",
    "model_urls = {\n",
    "    'resnet18': 'https://download.pytorch.org/models/resnet18-5c106cde.pth',\n",
    "    'resnet34': 'https://download.pytorch.org/models/resnet34-333f7ec4.pth',\n",
    "    'resnet50': 'https://download.pytorch.org/models/resnet50-19c8e357.pth',\n",
    "    'resnet101': 'https://download.pytorch.org/models/resnet101-5d3b4d8f.pth',\n",
    "    'resnet152': 'https://download.pytorch.org/models/resnet152-b121ed2d.pth',\n",
    "}\n",
    "\n",
    "# A same convolution conv3x3 layer\n",
    "def conv3x3(inplanes, planes, stride=1):\n",
    "    \"\"\"3x3 convolution with padding\"\"\"\n",
    "    return nn.Conv2d(inplanes, planes, kernel_size=3, stride=stride,\n",
    "                     padding=1, bias=False)\n",
    "\n",
    "def upconv2x2(in_channels, out_channels, mode='transpose'):\n",
    "    if mode == 'transpose':\n",
    "        return nn.ConvTranspose2d(\n",
    "            in_channels,\n",
    "            out_channels,\n",
    "            kernel_size=2,\n",
    "            stride=2)\n",
    "    else:\n",
    "        # out_channels is always going to be the same\n",
    "        # as in_channels\n",
    "        return nn.Sequential(\n",
    "            nn.Upsample(mode='bilinear', scale_factor=2),\n",
    "            conv1x1(in_channels, out_channels))\n",
    "    \n",
    "def conv1x1(in_channels, out_channels, groups=1):\n",
    "    return nn.Conv2d(\n",
    "        in_channels,\n",
    "        out_channels,\n",
    "        kernel_size=1,\n",
    "        groups=groups,\n",
    "        stride=1)\n",
    "\n",
    "# One residual block (for encoding layers)\n",
    "# Downsamples at the beginning if necessary\n",
    "class BasicBlock(nn.Module):\n",
    "    expansion = 1\n",
    "\n",
    "    def __init__(self, inplanes, planes, stride=1, downsample=None, firstlayer=False):\n",
    "        super(BasicBlock, self).__init__()\n",
    "        self.downsample = downsample\n",
    "        self.inplanes = inplanes\n",
    "        self.firstlayer = firstlayer\n",
    "        self.bn1 = nn.BatchNorm2d(inplanes)\n",
    "        self.relu = nn.ReLU(inplace=True)\n",
    "        self.maxpool = nn.MaxPool2d(kernel_size=3, stride=2, padding=1) # WHY ARE WE USING 3x3 WINDOW? OH WELL\n",
    "        self.conv1 = conv3x3(inplanes, planes, stride)    \n",
    "        self.bn2 = nn.BatchNorm2d(planes)  \n",
    "        self.conv2 = conv3x3(planes, planes)              \n",
    "        self.stride = stride\n",
    "\n",
    "    def forward(self, x):\n",
    "        residual = x\n",
    "        # print(x.size())\n",
    "        x = self.bn1(x)\n",
    "        x = self.relu(x)\n",
    "        if self.firstlayer == True: # This is probably not the best way to do this... fix in the future\n",
    "            x = self.maxpool(x)\n",
    "            x = self.conv2(x)\n",
    "            residual = self.conv1(x)\n",
    "        else:\n",
    "            x = self.conv1(x)            \n",
    "        x = self.bn2(x)\n",
    "        x = self.relu(x)\n",
    "        x = self.conv2(x)\n",
    "        # print(x.size())\n",
    "        # print(residual.size())\n",
    "        \n",
    "        if self.downsample is not None:\n",
    "            residual = self.downsample(residual)\n",
    "        \n",
    "        x += residual\n",
    "        \n",
    "        return x\n",
    "\n",
    "# Decoder block containing 2D transposed Convolution upsampling the features\n",
    "class DecoderBlock(nn.Module):\n",
    "    def __init__(self, inplanes, outplanes, stride=1):\n",
    "        super().__init__()\n",
    "\n",
    "        self.block = nn.Sequential(\n",
    "            conv3x3(inplanes, outplanes, stride),\n",
    "            nn.ReLU(inplace=True),\n",
    "            conv3x3(outplanes, outplanes, stride),\n",
    "            nn.ReLU(inplace=True),\n",
    "            upconv2x2(outplanes, outplanes)\n",
    "        )\n",
    "\n",
    "    def forward(self, x):\n",
    "        return self.block(x)    \n",
    "\n",
    "# Need this separate class to load weights into? We'll see\n",
    "# class ResNet(nn.Module):\n",
    "        \n",
    "# WIP\n",
    "class UResNet(nn.Module):\n",
    "\n",
    "    def __init__(self, block, layers, num_classes=1000):\n",
    "        super(UResNet, self).__init__()\n",
    "        self.conv1 = nn.Conv2d(1, 64, kernel_size=7, stride=2, padding=3,\n",
    "                               bias=False) \n",
    "        self.inplanes = 64\n",
    "        \n",
    "        # Encoding layers\n",
    "        self.layer1 = self._make_encoding_layer(block, 64, layers[0], firstlayer=True)\n",
    "        self.layer2 = self._make_encoding_layer(block, 128, layers[1], stride=2)\n",
    "        self.layer3 = self._make_encoding_layer(block, 256, layers[2], stride=2)\n",
    "        self.layer4 = self._make_encoding_layer(block, 512, layers[3], stride=2)\n",
    "        \n",
    "        # self.avgpool = nn.AvgPool2d(7, stride=1)  # I don't think we need this in the U-net bottleneck layer\n",
    "        # self.fc = nn.Linear(512 * block.expansion, num_classes) # I don't think we need this in the U-net bottleneck layer\n",
    "        \n",
    "        # Decoding layers with cat\n",
    "        self.layer4i = upconv2x2(512, 512)\n",
    "        self.layer4e = DecoderBlock(256 * 3, 256)\n",
    "        self.layer3e = DecoderBlock(128 * 3, 128)\n",
    "        self.layer2e = DecoderBlock(64 * 3, 64)\n",
    "        \n",
    "        # Decoding layers without cat\n",
    "        self.dec1 = DecoderBlock(64, 32)\n",
    "        self.dec2 = DecoderBlock(32, 16)\n",
    "        self.conv3216 = conv3x3(32,16,1)\n",
    "        self.conv1616 = conv3x3(16,16,1)\n",
    "        self.conv1601 = conv3x3(16,1,1)\n",
    "        self.relu = nn.ReLU(inplace=True)\n",
    "        \n",
    "\n",
    "        for m in self.modules():\n",
    "            if isinstance(m, nn.Conv2d):\n",
    "                nn.init.kaiming_normal_(m.weight, mode='fan_out', nonlinearity='relu')\n",
    "            elif isinstance(m, nn.BatchNorm2d):\n",
    "                nn.init.constant_(m.weight, 1)\n",
    "                nn.init.constant_(m.bias, 0)\n",
    "\n",
    "    def _make_encoding_layer(self, block, planes, blocks, stride=1, firstlayer=False):\n",
    "        downsample = None\n",
    "        if stride != 1 or self.inplanes != planes * block.expansion:\n",
    "            downsample = nn.Sequential(\n",
    "                nn.Conv2d(self.inplanes, planes * block.expansion,\n",
    "                          kernel_size=1, stride=stride, bias=False),\n",
    "                nn.BatchNorm2d(planes * block.expansion) # Is this batch norm necessary?,\n",
    "            )\n",
    "\n",
    "        layers = []\n",
    "        layers.append(block(self.inplanes, planes, stride, downsample, firstlayer=firstlayer))\n",
    "        self.inplanes = planes * block.expansion\n",
    "        \n",
    "        for i in range(1, blocks):\n",
    "            layers.append(block(self.inplanes, planes))\n",
    "\n",
    "        return nn.Sequential(*layers)\n",
    "    \n",
    "       \n",
    "    def forward(self, x):\n",
    "        # Pre-res layers\n",
    "        \n",
    "        x = self.conv1(x) # 128x128x1 -> 64x64x64\n",
    "        \n",
    "        # Resnet layers\n",
    "        conv2 = self.layer1(x) # 64x64x64 -> 32x32x64        \n",
    "        conv3 = self.layer2(conv2) # output: 16x16x128\n",
    "        conv4 = self.layer3(conv3) # output: 8x8x256\n",
    "        conv5 = self.layer4(conv4) # output: 4x4x512\n",
    "        conv4i = self.layer4i(conv5) # output: 8x8x512\n",
    "        conv4e = self.layer4e(torch.cat([conv4i, conv4], 1)) # output: 16x16x256\n",
    "        conv3e = self.layer3e(torch.cat([conv4e, conv3], 1)) # output: 32x32x128\n",
    "        conv2e = self.layer2e(torch.cat([conv3e, conv2], 1)) # output: 64x64x64\n",
    "        dec1 = self.dec1(conv2e) # output: 128x128x32\n",
    "        \n",
    "        y = self.conv3216(dec1)\n",
    "        y = self.relu(y)\n",
    "        y = self.conv1616(y)\n",
    "        y = self.relu(y)\n",
    "        y = self.conv1601(y)\n",
    "        y = torch.sigmoid(y)\n",
    "\n",
    "        # Don't think we need these for U-net\n",
    "#         x = self.avgpool(x)\n",
    "#         x = x.view(x.size(0), -1)\n",
    "#         x = self.fc(x)\n",
    "        \n",
    "        # CENTER BLOCK\n",
    "        \n",
    "        return y\n",
    "    \n",
    "\n",
    "\n",
    "def resnet34(pretrained=False, **kwargs):\n",
    "    \"\"\"Constructs a ResNet-34 model.\n",
    "    Args:\n",
    "        pretrained (bool): If True, returns a model pre-trained on ImageNet\n",
    "    \"\"\"\n",
    "    model = UResNet(BasicBlock, [3, 4, 6, 3], **kwargs)\n",
    "    if pretrained:\n",
    "        model.load_state_dict(model_zoo.load_url(model_urls['resnet34']))\n",
    "    model.train()\n",
    "    return model.to(device)\n",
    "    \n",
    "print(\"Network architecture created.\")"
   ]
  },
  {
   "cell_type": "code",
   "execution_count": 3,
   "metadata": {},
   "outputs": [],
   "source": [
    "class TGSSaltDataset(data.Dataset):\n",
    "\n",
    "    def __init__(self,\n",
    "                 root_path,\n",
    "                 file_list,\n",
    "                 is_test=False,\n",
    "                 divide=False,\n",
    "                 image_size=(128, 128)):\n",
    "\n",
    "        self.root_path = root_path\n",
    "        self.file_list = file_list\n",
    "        self.is_test = is_test\n",
    "\n",
    "        self.divide = divide\n",
    "        self.image_size = image_size\n",
    "\n",
    "        self.orig_image_size = (101, 101)\n",
    "        self.padding_pixels = None\n",
    "        \n",
    "        \"\"\"\n",
    "        root_path: folder specifying files location\n",
    "        file_list: list of images IDs\n",
    "        is_test: whether train or test data is used (contains masks or not)\n",
    "        \n",
    "        divide: whether to divide by 255\n",
    "        image_size: output image size, should be divisible by 32\n",
    "        \n",
    "        orig_image_size: original images size\n",
    "        padding_pixels: placeholder for list of padding dimensions\n",
    "        \"\"\"\n",
    "\n",
    "    def __len__(self):\n",
    "        return len(self.file_list)\n",
    "\n",
    "    def __getitem__(self, index):\n",
    "        if index not in range(0, len(self.file_list)):\n",
    "            return self.__getitem__(np.random.randint(0, self.__len__()))\n",
    "\n",
    "        file_id = self.file_list[index]\n",
    "\n",
    "        # Get image path\n",
    "        image_folder = os.path.join(self.root_path, 'images')\n",
    "        image_path = os.path.join(image_folder, file_id + '.png')\n",
    "    \n",
    "        # Get mask path\n",
    "        mask_folder = os.path.join(self.root_path, 'masks')\n",
    "        mask_path = os.path.join(mask_folder, file_id + '.png')\n",
    "\n",
    "        # Load image\n",
    "        image = self.__load_image(image_path)\n",
    "        if not self.is_test:\n",
    "            # Load mask for training or evaluation\n",
    "            mask = self.__load_image(mask_path, mask=True)\n",
    "            if self.divide:\n",
    "                image = image / 255.\n",
    "                mask = mask / 255.\n",
    "            # Transform into torch float Tensors of shape (CxHxW).\n",
    "            image = torch.from_numpy(\n",
    "                np.expand_dims(image, axis=-1)).float().permute([2, 0, 1])\n",
    "            mask = torch.from_numpy(\n",
    "                np.expand_dims(mask, axis=-1)).float().permute([2, 0, 1])\n",
    "            return image, mask\n",
    "\n",
    "        if self.is_test:\n",
    "            if self.divide:\n",
    "                image = image / 255.\n",
    "            image = torch.from_numpy(np.expand_dims(image, axis=-1)).float().permute([2, 0, 1])\n",
    "            return (image,)\n",
    "\n",
    "    def set_padding(self):\n",
    "\n",
    "        \"\"\"\n",
    "        Compute padding borders for images based on original and specified image size.\n",
    "        \"\"\"\n",
    "        \n",
    "        pad_floor = np.floor(\n",
    "            (np.asarray(self.image_size) - np.asarray(self.orig_image_size)) / 2)\n",
    "        pad_ceil = np.ceil((np.asarray(self.image_size) -\n",
    "                            np.asarray(self.orig_image_size)) / 2)\n",
    "\n",
    "        self.padding_pixels = np.asarray(\n",
    "            (pad_floor[0], pad_ceil[0], pad_floor[1], pad_ceil[1])).astype(np.int32)\n",
    "\n",
    "        return\n",
    "\n",
    "    def __pad_image(self, img):\n",
    "        \n",
    "        \"\"\"\n",
    "        Pad images according to border set in set_padding.\n",
    "        Original image is centered.\n",
    "        \"\"\"\n",
    "\n",
    "        y_min_pad, y_max_pad, x_min_pad, x_max_pad = self.padding_pixels[\n",
    "            0], self.padding_pixels[1], self.padding_pixels[2], self.padding_pixels[3]\n",
    "\n",
    "        img = cv2.copyMakeBorder(img, y_min_pad, y_max_pad,\n",
    "                                 x_min_pad, x_max_pad,\n",
    "                                 cv2.BORDER_REPLICATE)\n",
    "\n",
    "        assert img.shape[:2] == self.image_size, '\\\n",
    "        Image after padding must have the same shape as input image.'\n",
    "\n",
    "        return img\n",
    "\n",
    "    def __load_image(self, path, mask=False):\n",
    "        \n",
    "        \"\"\"\n",
    "        Helper function for loading image.\n",
    "        If mask is loaded, it is loaded in grayscale (, 0) parameter.\n",
    "        \"\"\"\n",
    "\n",
    "        if mask:\n",
    "            img = cv2.imread(str(path), 0)\n",
    "        else:\n",
    "            img = cv2.imread(str(path), 0)\n",
    "\n",
    "        height, width = img.shape[0], img.shape[1]\n",
    "\n",
    "        img = self.__pad_image(img)\n",
    "\n",
    "        return img\n",
    "\n",
    "    def return_padding_borders(self):\n",
    "        \"\"\"\n",
    "        Return padding borders to easily crop the images.\n",
    "        \"\"\"\n",
    "        return self.padding_pixels"
   ]
  },
  {
   "cell_type": "markdown",
   "metadata": {},
   "source": [
    "# Load initial data into dataframes"
   ]
  },
  {
   "cell_type": "code",
   "execution_count": 5,
   "metadata": {},
   "outputs": [
    {
     "name": "stdout",
     "output_type": "stream",
     "text": [
      "# of training images: 4000\n",
      "# of training masks: 4000\n",
      "# of test images: 18000\n"
     ]
    },
    {
     "data": {
      "text/html": [
       "<div>\n",
       "<style scoped>\n",
       "    .dataframe tbody tr th:only-of-type {\n",
       "        vertical-align: middle;\n",
       "    }\n",
       "\n",
       "    .dataframe tbody tr th {\n",
       "        vertical-align: top;\n",
       "    }\n",
       "\n",
       "    .dataframe thead th {\n",
       "        text-align: right;\n",
       "    }\n",
       "</style>\n",
       "<table border=\"1\" class=\"dataframe\">\n",
       "  <thead>\n",
       "    <tr style=\"text-align: right;\">\n",
       "      <th></th>\n",
       "      <th>rle_mask</th>\n",
       "      <th>z</th>\n",
       "    </tr>\n",
       "    <tr>\n",
       "      <th>id</th>\n",
       "      <th></th>\n",
       "      <th></th>\n",
       "    </tr>\n",
       "  </thead>\n",
       "  <tbody>\n",
       "    <tr>\n",
       "      <th>575d24d81d</th>\n",
       "      <td>NaN</td>\n",
       "      <td>843</td>\n",
       "    </tr>\n",
       "    <tr>\n",
       "      <th>a266a2a9df</th>\n",
       "      <td>5051 5151</td>\n",
       "      <td>794</td>\n",
       "    </tr>\n",
       "    <tr>\n",
       "      <th>75efad62c1</th>\n",
       "      <td>9 93 109 94 210 94 310 95 411 95 511 96 612 96...</td>\n",
       "      <td>468</td>\n",
       "    </tr>\n",
       "    <tr>\n",
       "      <th>34e51dba6a</th>\n",
       "      <td>48 54 149 54 251 53 353 52 455 51 557 50 659 4...</td>\n",
       "      <td>727</td>\n",
       "    </tr>\n",
       "    <tr>\n",
       "      <th>4875705fb0</th>\n",
       "      <td>1111 1 1212 1 1313 1 1414 1 1514 2 1615 2 1716...</td>\n",
       "      <td>797</td>\n",
       "    </tr>\n",
       "  </tbody>\n",
       "</table>\n",
       "</div>"
      ],
      "text/plain": [
       "                                                     rle_mask    z\n",
       "id                                                                \n",
       "575d24d81d                                                NaN  843\n",
       "a266a2a9df                                          5051 5151  794\n",
       "75efad62c1  9 93 109 94 210 94 310 95 411 95 511 96 612 96...  468\n",
       "34e51dba6a  48 54 149 54 251 53 353 52 455 51 557 50 659 4...  727\n",
       "4875705fb0  1111 1 1212 1 1313 1 1414 1 1514 2 1615 2 1716...  797"
      ]
     },
     "execution_count": 5,
     "metadata": {},
     "output_type": "execute_result"
    }
   ],
   "source": [
    "train_df = pd.read_csv('train.csv', index_col = 'id')\n",
    "depths_df = pd.read_csv('depths.csv', index_col='id')\n",
    "train_df = train_df.join(depths_df)\n",
    "test_df = depths_df[~depths_df.index.isin(train_df.index)] # All depths not in train dataset are in \n",
    "\n",
    "print ('# of training images:', len(os.listdir('train/images')))\n",
    "print ('# of training masks:', len(os.listdir('train/masks')))\n",
    "print ('# of test images:', len(os.listdir('test/images')))\n",
    "\n",
    "train_df.head()\n"
   ]
  },
  {
   "cell_type": "markdown",
   "metadata": {},
   "source": [
    "# Parameters"
   ]
  },
  {
   "cell_type": "code",
   "execution_count": 6,
   "metadata": {},
   "outputs": [
    {
     "name": "stdout",
     "output_type": "stream",
     "text": [
      "Device: cuda:0\n"
     ]
    }
   ],
   "source": [
    "device = torch.device(\"cuda:0\" if torch.cuda.is_available() else \"cpu\")\n",
    "print(\"Device:\", device)\n",
    "data_src = ''\n",
    "\n",
    "quick_try = False\n",
    "grayscale = True\n",
    "\n",
    "orig_image_size = (101, 101)\n",
    "image_size = (128, 128)"
   ]
  },
  {
   "cell_type": "markdown",
   "metadata": {},
   "source": [
    "# Load images using opencv"
   ]
  },
  {
   "cell_type": "code",
   "execution_count": 7,
   "metadata": {},
   "outputs": [
    {
     "name": "stdout",
     "output_type": "stream",
     "text": [
      "Loading training set.\n"
     ]
    },
    {
     "data": {
      "application/vnd.jupyter.widget-view+json": {
       "model_id": "4b273503dbc740ddb1ab22627f8c1ebf",
       "version_major": 2,
       "version_minor": 0
      },
      "text/plain": [
       "HBox(children=(IntProgress(value=0, max=4000), HTML(value='')))"
      ]
     },
     "metadata": {},
     "output_type": "display_data"
    },
    {
     "name": "stdout",
     "output_type": "stream",
     "text": [
      "\n"
     ]
    }
   ],
   "source": [
    "X_train = []\n",
    "y_train = []\n",
    "\n",
    "print('Loading training set.')\n",
    "for i in tqdm_notebook(train_df.index):\n",
    "    img_src = 'train/images/{}.png'.format(i)\n",
    "    mask_src = 'train/masks/{}.png'.format(i)\n",
    "    if grayscale:\n",
    "        img_temp = cv2.imread(img_src, 0)\n",
    "    else:\n",
    "        img_temp = cv2.imread(img_src)\n",
    "    mask_temp = cv2.imread(mask_src, 0)\n",
    "    if orig_image_size != image_size:\n",
    "        img_temp = cv2.resize(img_temp, image_size)\n",
    "        mask_temp = cv2.resize(mask_temp, image_size)\n",
    "    X_train.append(img_temp)\n",
    "    y_train.append(mask_temp)\n",
    "    # print(img_temp.shape)\n",
    "X_train = np.asarray(X_train)\n",
    "y_train = np.asarray(y_train)\n",
    "\n",
    "if grayscale:\n",
    "    X_train = np.expand_dims(X_train, -1)\n",
    "y_train = np.expand_dims(y_train, -1)"
   ]
  },
  {
   "cell_type": "code",
   "execution_count": 8,
   "metadata": {},
   "outputs": [
    {
     "name": "stdout",
     "output_type": "stream",
     "text": [
      "Compute mask coverage for each observation.\n"
     ]
    }
   ],
   "source": [
    "print('Compute mask coverage for each observation.')\n",
    "\n",
    "def cov_to_class(val):\n",
    "    for i in range(0, 11):\n",
    "        if val * 10 <= i:\n",
    "            return i\n",
    "\n",
    "# Percent of area covered by mask.\n",
    "train_df['coverage'] = np.mean(y_train / 255., axis=(1, 2))\n",
    "train_df['coverage_class'] = train_df.coverage.map(\n",
    "    cov_to_class)"
   ]
  },
  {
   "cell_type": "markdown",
   "metadata": {},
   "source": [
    "__Parameters for data loading:__"
   ]
  },
  {
   "cell_type": "code",
   "execution_count": 9,
   "metadata": {},
   "outputs": [],
   "source": [
    "train_path = 'train'\n",
    "test_path = 'test'\n",
    "\n",
    "train_ids = train_df.index.values\n",
    "test_ids = test_df.index.values\n",
    "\n",
    "from sklearn.model_selection import train_test_split\n",
    "\n",
    "tr_ids, valid_ids, tr_coverage, valid_coverage = train_test_split(\n",
    "    train_ids,\n",
    "    train_df.coverage.values,\n",
    "    test_size=0.2, stratify=train_df.coverage_class, random_state= 1234)"
   ]
  },
  {
   "cell_type": "markdown",
   "metadata": {},
   "source": [
    "__Define Data Loading__:"
   ]
  },
  {
   "cell_type": "code",
   "execution_count": 16,
   "metadata": {},
   "outputs": [],
   "source": [
    "# Training dataset:\n",
    "dataset_train = TGSSaltDataset(train_path, tr_ids, divide=True)\n",
    "dataset_train.set_padding()\n",
    "y_min_pad, y_max_pad, x_min_pad, x_max_pad = dataset_train.return_padding_borders()\n",
    "        \n",
    "# Validation dataset:\n",
    "dataset_val = TGSSaltDataset(train_path, valid_ids, divide=True)\n",
    "dataset_val.set_padding()\n",
    "\n",
    "# Test dataset:\n",
    "dataset_test = TGSSaltDataset(test_path, test_ids, is_test=True, divide=True)\n",
    "dataset_test.set_padding()\n",
    "\n",
    "\n",
    "# Data loaders:\n",
    "# Use multiple workers to optimize data loading speed.\n",
    "# Pin memory for quicker GPU processing.\n",
    "batch_size = 16\n",
    "\n",
    "train_loader = data.DataLoader(\n",
    "    dataset_train,\n",
    "    batch_size=batch_size,\n",
    "    shuffle=True,\n",
    "    num_workers=4,\n",
    "    pin_memory=True)\n",
    "\n",
    "# Do not shuffle for validation and test.\n",
    "valid_loader = data.DataLoader(\n",
    "    dataset_val,\n",
    "    batch_size=batch_size,\n",
    "    shuffle=False,\n",
    "    num_workers=4,\n",
    "    pin_memory=True)\n",
    "\n",
    "test_loader = data.DataLoader(\n",
    "    dataset_test,\n",
    "    batch_size=batch_size,\n",
    "    shuffle=False,\n",
    "    num_workers=4,\n",
    "    pin_memory=True)"
   ]
  },
  {
   "cell_type": "markdown",
   "metadata": {},
   "source": [
    "# Training:"
   ]
  },
  {
   "cell_type": "code",
   "execution_count": 12,
   "metadata": {},
   "outputs": [
    {
     "data": {
      "application/vnd.jupyter.widget-view+json": {
       "model_id": "cce175098ad944be8e1318960c35a8ac",
       "version_major": 2,
       "version_minor": 0
      },
      "text/plain": [
       "HBox(children=(IntProgress(value=0, max=200), HTML(value='')))"
      ]
     },
     "metadata": {},
     "output_type": "display_data"
    },
    {
     "name": "stdout",
     "output_type": "stream",
     "text": [
      "\n",
      "Epoch: 0, Train: 0.388, Val: 0.330\n"
     ]
    },
    {
     "name": "stderr",
     "output_type": "stream",
     "text": [
      "/home/ubuntu/anaconda3/envs/pytorch_p36/lib/python3.6/site-packages/torch/serialization.py:241: UserWarning: Couldn't retrieve source code for container of type UResNet. It won't be checked for correctness upon loading.\n",
      "  \"type \" + obj.__name__ + \". It won't be checked \"\n",
      "/home/ubuntu/anaconda3/envs/pytorch_p36/lib/python3.6/site-packages/torch/serialization.py:241: UserWarning: Couldn't retrieve source code for container of type BasicBlock. It won't be checked for correctness upon loading.\n",
      "  \"type \" + obj.__name__ + \". It won't be checked \"\n",
      "/home/ubuntu/anaconda3/envs/pytorch_p36/lib/python3.6/site-packages/torch/serialization.py:241: UserWarning: Couldn't retrieve source code for container of type DecoderBlock. It won't be checked for correctness upon loading.\n",
      "  \"type \" + obj.__name__ + \". It won't be checked \"\n"
     ]
    },
    {
     "data": {
      "application/vnd.jupyter.widget-view+json": {
       "model_id": "6ba7282eff684abdae20aa9ced77b8ff",
       "version_major": 2,
       "version_minor": 0
      },
      "text/plain": [
       "HBox(children=(IntProgress(value=0, max=200), HTML(value='')))"
      ]
     },
     "metadata": {},
     "output_type": "display_data"
    },
    {
     "name": "stdout",
     "output_type": "stream",
     "text": [
      "\n",
      "Epoch: 1, Train: 0.283, Val: 0.265\n"
     ]
    },
    {
     "data": {
      "application/vnd.jupyter.widget-view+json": {
       "model_id": "f81beafbd12d45bb8f43be26a582a606",
       "version_major": 2,
       "version_minor": 0
      },
      "text/plain": [
       "HBox(children=(IntProgress(value=0, max=200), HTML(value='')))"
      ]
     },
     "metadata": {},
     "output_type": "display_data"
    },
    {
     "name": "stdout",
     "output_type": "stream",
     "text": [
      "\n",
      "Epoch: 2, Train: 0.250, Val: 0.256\n"
     ]
    },
    {
     "data": {
      "application/vnd.jupyter.widget-view+json": {
       "model_id": "3b0098efd4d84bf3b5882d70da1c6081",
       "version_major": 2,
       "version_minor": 0
      },
      "text/plain": [
       "HBox(children=(IntProgress(value=0, max=200), HTML(value='')))"
      ]
     },
     "metadata": {},
     "output_type": "display_data"
    },
    {
     "name": "stdout",
     "output_type": "stream",
     "text": [
      "\n",
      "Epoch: 3, Train: 0.221, Val: 0.227\n"
     ]
    },
    {
     "data": {
      "application/vnd.jupyter.widget-view+json": {
       "model_id": "e643419cc8064717b77f1a89b29d8d21",
       "version_major": 2,
       "version_minor": 0
      },
      "text/plain": [
       "HBox(children=(IntProgress(value=0, max=200), HTML(value='')))"
      ]
     },
     "metadata": {},
     "output_type": "display_data"
    },
    {
     "name": "stdout",
     "output_type": "stream",
     "text": [
      "\n",
      "Epoch: 4, Train: 0.205, Val: 0.204\n"
     ]
    },
    {
     "data": {
      "application/vnd.jupyter.widget-view+json": {
       "model_id": "b0a801e230f24b9e9edd7aa70775375e",
       "version_major": 2,
       "version_minor": 0
      },
      "text/plain": [
       "HBox(children=(IntProgress(value=0, max=200), HTML(value='')))"
      ]
     },
     "metadata": {},
     "output_type": "display_data"
    },
    {
     "name": "stdout",
     "output_type": "stream",
     "text": [
      "\n",
      "Epoch: 5, Train: 0.190, Val: 0.230\n"
     ]
    },
    {
     "data": {
      "application/vnd.jupyter.widget-view+json": {
       "model_id": "5b34403a84b14d98b43c22ce7ee5a027",
       "version_major": 2,
       "version_minor": 0
      },
      "text/plain": [
       "HBox(children=(IntProgress(value=0, max=200), HTML(value='')))"
      ]
     },
     "metadata": {},
     "output_type": "display_data"
    },
    {
     "name": "stdout",
     "output_type": "stream",
     "text": [
      "\n",
      "Epoch: 6, Train: 0.177, Val: 0.209\n"
     ]
    },
    {
     "data": {
      "application/vnd.jupyter.widget-view+json": {
       "model_id": "8590c7f3f67b4dc7afbdd255df7a4fbd",
       "version_major": 2,
       "version_minor": 0
      },
      "text/plain": [
       "HBox(children=(IntProgress(value=0, max=200), HTML(value='')))"
      ]
     },
     "metadata": {},
     "output_type": "display_data"
    },
    {
     "name": "stdout",
     "output_type": "stream",
     "text": [
      "\n",
      "Epoch: 7, Train: 0.156, Val: 0.195\n"
     ]
    },
    {
     "data": {
      "application/vnd.jupyter.widget-view+json": {
       "model_id": "49272b7f3f134b98953a3f8472edc81f",
       "version_major": 2,
       "version_minor": 0
      },
      "text/plain": [
       "HBox(children=(IntProgress(value=0, max=200), HTML(value='')))"
      ]
     },
     "metadata": {},
     "output_type": "display_data"
    },
    {
     "name": "stdout",
     "output_type": "stream",
     "text": [
      "\n",
      "Epoch: 8, Train: 0.140, Val: 0.213\n"
     ]
    },
    {
     "data": {
      "application/vnd.jupyter.widget-view+json": {
       "model_id": "5795b6397feb4066827b2fb7c74ccad7",
       "version_major": 2,
       "version_minor": 0
      },
      "text/plain": [
       "HBox(children=(IntProgress(value=0, max=200), HTML(value='')))"
      ]
     },
     "metadata": {},
     "output_type": "display_data"
    },
    {
     "name": "stdout",
     "output_type": "stream",
     "text": [
      "\n",
      "Epoch: 9, Train: 0.145, Val: 0.199\n"
     ]
    },
    {
     "data": {
      "application/vnd.jupyter.widget-view+json": {
       "model_id": "4ed8a5bd36b04dca98d9e671cc972d7b",
       "version_major": 2,
       "version_minor": 0
      },
      "text/plain": [
       "HBox(children=(IntProgress(value=0, max=200), HTML(value='')))"
      ]
     },
     "metadata": {},
     "output_type": "display_data"
    },
    {
     "name": "stdout",
     "output_type": "stream",
     "text": [
      "\n",
      "Epoch: 10, Train: 0.110, Val: 0.205\n"
     ]
    },
    {
     "data": {
      "application/vnd.jupyter.widget-view+json": {
       "model_id": "7f8ac6e5f3454feb8a24825e5cf3aea8",
       "version_major": 2,
       "version_minor": 0
      },
      "text/plain": [
       "HBox(children=(IntProgress(value=0, max=200), HTML(value='')))"
      ]
     },
     "metadata": {},
     "output_type": "display_data"
    },
    {
     "name": "stdout",
     "output_type": "stream",
     "text": [
      "\n",
      "Epoch: 11, Train: 0.099, Val: 0.219\n"
     ]
    },
    {
     "data": {
      "application/vnd.jupyter.widget-view+json": {
       "model_id": "4654369199c4416583f3be834fb6743f",
       "version_major": 2,
       "version_minor": 0
      },
      "text/plain": [
       "HBox(children=(IntProgress(value=0, max=200), HTML(value='')))"
      ]
     },
     "metadata": {},
     "output_type": "display_data"
    },
    {
     "name": "stdout",
     "output_type": "stream",
     "text": [
      "\n",
      "Epoch: 12, Train: 0.082, Val: 0.217\n"
     ]
    },
    {
     "data": {
      "application/vnd.jupyter.widget-view+json": {
       "model_id": "72d0333e86b14456b8c02baa2a87394a",
       "version_major": 2,
       "version_minor": 0
      },
      "text/plain": [
       "HBox(children=(IntProgress(value=0, max=200), HTML(value='')))"
      ]
     },
     "metadata": {},
     "output_type": "display_data"
    },
    {
     "name": "stdout",
     "output_type": "stream",
     "text": [
      "\n",
      "Epoch: 13, Train: 0.073, Val: 0.241\n"
     ]
    },
    {
     "data": {
      "application/vnd.jupyter.widget-view+json": {
       "model_id": "e188e563d1ab445d928ee099fc59b396",
       "version_major": 2,
       "version_minor": 0
      },
      "text/plain": [
       "HBox(children=(IntProgress(value=0, max=200), HTML(value='')))"
      ]
     },
     "metadata": {},
     "output_type": "display_data"
    },
    {
     "name": "stdout",
     "output_type": "stream",
     "text": [
      "\n",
      "Epoch: 14, Train: 0.092, Val: 0.221\n"
     ]
    },
    {
     "data": {
      "application/vnd.jupyter.widget-view+json": {
       "model_id": "dff5ffa5cc6947b39d6e826a6a2f8027",
       "version_major": 2,
       "version_minor": 0
      },
      "text/plain": [
       "HBox(children=(IntProgress(value=0, max=200), HTML(value='')))"
      ]
     },
     "metadata": {},
     "output_type": "display_data"
    },
    {
     "name": "stdout",
     "output_type": "stream",
     "text": [
      "\n",
      "Epoch: 15, Train: 0.077, Val: 0.225\n"
     ]
    },
    {
     "data": {
      "application/vnd.jupyter.widget-view+json": {
       "model_id": "503023a3832d4912ba3e96094b646bd3",
       "version_major": 2,
       "version_minor": 0
      },
      "text/plain": [
       "HBox(children=(IntProgress(value=0, max=200), HTML(value='')))"
      ]
     },
     "metadata": {},
     "output_type": "display_data"
    },
    {
     "name": "stdout",
     "output_type": "stream",
     "text": [
      "\n",
      "Epoch: 16, Train: 0.081, Val: 0.247\n"
     ]
    },
    {
     "data": {
      "application/vnd.jupyter.widget-view+json": {
       "model_id": "ef71bf43248948af9b4618e37e201f89",
       "version_major": 2,
       "version_minor": 0
      },
      "text/plain": [
       "HBox(children=(IntProgress(value=0, max=200), HTML(value='')))"
      ]
     },
     "metadata": {},
     "output_type": "display_data"
    },
    {
     "name": "stdout",
     "output_type": "stream",
     "text": [
      "\n",
      "Epoch: 17, Train: 0.063, Val: 0.199\n"
     ]
    },
    {
     "data": {
      "application/vnd.jupyter.widget-view+json": {
       "model_id": "cd5a851f03264a21923c035616670425",
       "version_major": 2,
       "version_minor": 0
      },
      "text/plain": [
       "HBox(children=(IntProgress(value=0, max=200), HTML(value='')))"
      ]
     },
     "metadata": {},
     "output_type": "display_data"
    },
    {
     "name": "stdout",
     "output_type": "stream",
     "text": [
      "\n",
      "Epoch: 18, Train: 0.051, Val: 0.250\n"
     ]
    },
    {
     "data": {
      "application/vnd.jupyter.widget-view+json": {
       "model_id": "53bf809b7cdd458ca3a602341a87fbd1",
       "version_major": 2,
       "version_minor": 0
      },
      "text/plain": [
       "HBox(children=(IntProgress(value=0, max=200), HTML(value='')))"
      ]
     },
     "metadata": {},
     "output_type": "display_data"
    },
    {
     "name": "stdout",
     "output_type": "stream",
     "text": [
      "\n",
      "Epoch: 19, Train: 0.069, Val: 0.253\n"
     ]
    },
    {
     "data": {
      "application/vnd.jupyter.widget-view+json": {
       "model_id": "0e5a05c5f60e439b9201c3084ade3722",
       "version_major": 2,
       "version_minor": 0
      },
      "text/plain": [
       "HBox(children=(IntProgress(value=0, max=200), HTML(value='')))"
      ]
     },
     "metadata": {},
     "output_type": "display_data"
    },
    {
     "name": "stdout",
     "output_type": "stream",
     "text": [
      "\n",
      "Epoch: 20, Train: 0.066, Val: 0.233\n"
     ]
    },
    {
     "data": {
      "application/vnd.jupyter.widget-view+json": {
       "model_id": "8ddecb9d2a30468fb75b2e8a4c4610e2",
       "version_major": 2,
       "version_minor": 0
      },
      "text/plain": [
       "HBox(children=(IntProgress(value=0, max=200), HTML(value='')))"
      ]
     },
     "metadata": {},
     "output_type": "display_data"
    },
    {
     "name": "stdout",
     "output_type": "stream",
     "text": [
      "\n",
      "Epoch: 21, Train: 0.049, Val: 0.258\n"
     ]
    },
    {
     "data": {
      "application/vnd.jupyter.widget-view+json": {
       "model_id": "6288e4bbafbe424197cb2320f06cd48a",
       "version_major": 2,
       "version_minor": 0
      },
      "text/plain": [
       "HBox(children=(IntProgress(value=0, max=200), HTML(value='')))"
      ]
     },
     "metadata": {},
     "output_type": "display_data"
    },
    {
     "name": "stdout",
     "output_type": "stream",
     "text": [
      "\n",
      "Epoch: 22, Train: 0.041, Val: 0.279\n"
     ]
    },
    {
     "data": {
      "application/vnd.jupyter.widget-view+json": {
       "model_id": "21560baa59394b4395e08b5fea78acb9",
       "version_major": 2,
       "version_minor": 0
      },
      "text/plain": [
       "HBox(children=(IntProgress(value=0, max=200), HTML(value='')))"
      ]
     },
     "metadata": {},
     "output_type": "display_data"
    },
    {
     "name": "stdout",
     "output_type": "stream",
     "text": [
      "\n",
      "Epoch: 23, Train: 0.037, Val: 0.287\n"
     ]
    },
    {
     "data": {
      "application/vnd.jupyter.widget-view+json": {
       "model_id": "56c1beed16b14d1886541d3e311afc2e",
       "version_major": 2,
       "version_minor": 0
      },
      "text/plain": [
       "HBox(children=(IntProgress(value=0, max=200), HTML(value='')))"
      ]
     },
     "metadata": {},
     "output_type": "display_data"
    },
    {
     "name": "stdout",
     "output_type": "stream",
     "text": [
      "\n",
      "Epoch: 24, Train: 0.034, Val: 0.294\n"
     ]
    },
    {
     "data": {
      "application/vnd.jupyter.widget-view+json": {
       "model_id": "149c498bd5b34b54aa24fde853b2ba69",
       "version_major": 2,
       "version_minor": 0
      },
      "text/plain": [
       "HBox(children=(IntProgress(value=0, max=200), HTML(value='')))"
      ]
     },
     "metadata": {},
     "output_type": "display_data"
    },
    {
     "name": "stdout",
     "output_type": "stream",
     "text": [
      "\n",
      "Epoch: 25, Train: 0.035, Val: 0.302\n"
     ]
    },
    {
     "data": {
      "application/vnd.jupyter.widget-view+json": {
       "model_id": "e36f6f25c32e4cdfad52891b5306ad77",
       "version_major": 2,
       "version_minor": 0
      },
      "text/plain": [
       "HBox(children=(IntProgress(value=0, max=200), HTML(value='')))"
      ]
     },
     "metadata": {},
     "output_type": "display_data"
    },
    {
     "name": "stdout",
     "output_type": "stream",
     "text": [
      "\n",
      "Epoch: 26, Train: 0.035, Val: 0.293\n"
     ]
    },
    {
     "data": {
      "application/vnd.jupyter.widget-view+json": {
       "model_id": "2e2d5ae42ac44204b6974b944c408372",
       "version_major": 2,
       "version_minor": 0
      },
      "text/plain": [
       "HBox(children=(IntProgress(value=0, max=200), HTML(value='')))"
      ]
     },
     "metadata": {},
     "output_type": "display_data"
    },
    {
     "name": "stdout",
     "output_type": "stream",
     "text": [
      "\n",
      "Epoch: 27, Train: 0.097, Val: 0.246\n"
     ]
    },
    {
     "data": {
      "application/vnd.jupyter.widget-view+json": {
       "model_id": "a610ab1ddf814b3186eabc02931179d4",
       "version_major": 2,
       "version_minor": 0
      },
      "text/plain": [
       "HBox(children=(IntProgress(value=0, max=200), HTML(value='')))"
      ]
     },
     "metadata": {},
     "output_type": "display_data"
    },
    {
     "name": "stdout",
     "output_type": "stream",
     "text": [
      "\n",
      "Epoch: 28, Train: 0.064, Val: 0.283\n"
     ]
    },
    {
     "data": {
      "application/vnd.jupyter.widget-view+json": {
       "model_id": "7fdd616e2dc64894a34fe708f74b2aca",
       "version_major": 2,
       "version_minor": 0
      },
      "text/plain": [
       "HBox(children=(IntProgress(value=0, max=200), HTML(value='')))"
      ]
     },
     "metadata": {},
     "output_type": "display_data"
    },
    {
     "name": "stdout",
     "output_type": "stream",
     "text": [
      "\n",
      "Epoch: 29, Train: 0.043, Val: 0.282\n"
     ]
    },
    {
     "data": {
      "application/vnd.jupyter.widget-view+json": {
       "model_id": "daadaa02c3cd4cc4b0efefc0df7571d6",
       "version_major": 2,
       "version_minor": 0
      },
      "text/plain": [
       "HBox(children=(IntProgress(value=0, max=200), HTML(value='')))"
      ]
     },
     "metadata": {},
     "output_type": "display_data"
    },
    {
     "name": "stdout",
     "output_type": "stream",
     "text": [
      "\n",
      "Epoch: 30, Train: 0.032, Val: 0.304\n"
     ]
    },
    {
     "data": {
      "application/vnd.jupyter.widget-view+json": {
       "model_id": "450d91ee814a49a881fef22b2d04a410",
       "version_major": 2,
       "version_minor": 0
      },
      "text/plain": [
       "HBox(children=(IntProgress(value=0, max=200), HTML(value='')))"
      ]
     },
     "metadata": {},
     "output_type": "display_data"
    },
    {
     "name": "stdout",
     "output_type": "stream",
     "text": [
      "\n",
      "Epoch: 31, Train: 0.026, Val: 0.320\n"
     ]
    },
    {
     "data": {
      "application/vnd.jupyter.widget-view+json": {
       "model_id": "b920c85013b8482980d887e6b3e81d1f",
       "version_major": 2,
       "version_minor": 0
      },
      "text/plain": [
       "HBox(children=(IntProgress(value=0, max=200), HTML(value='')))"
      ]
     },
     "metadata": {},
     "output_type": "display_data"
    },
    {
     "name": "stdout",
     "output_type": "stream",
     "text": [
      "\n",
      "Epoch: 32, Train: 0.023, Val: 0.333\n"
     ]
    },
    {
     "data": {
      "application/vnd.jupyter.widget-view+json": {
       "model_id": "3337c79985734d0584eb397d4e93aa36",
       "version_major": 2,
       "version_minor": 0
      },
      "text/plain": [
       "HBox(children=(IntProgress(value=0, max=200), HTML(value='')))"
      ]
     },
     "metadata": {},
     "output_type": "display_data"
    },
    {
     "name": "stdout",
     "output_type": "stream",
     "text": [
      "\n",
      "Epoch: 33, Train: 0.023, Val: 0.349\n"
     ]
    },
    {
     "data": {
      "application/vnd.jupyter.widget-view+json": {
       "model_id": "bc9a52909f97423eaa8b338f95e1edf0",
       "version_major": 2,
       "version_minor": 0
      },
      "text/plain": [
       "HBox(children=(IntProgress(value=0, max=200), HTML(value='')))"
      ]
     },
     "metadata": {},
     "output_type": "display_data"
    },
    {
     "name": "stdout",
     "output_type": "stream",
     "text": [
      "\n",
      "Epoch: 34, Train: 0.022, Val: 0.327\n"
     ]
    },
    {
     "data": {
      "application/vnd.jupyter.widget-view+json": {
       "model_id": "286fd81a48514656a350e1f8dabcca8d",
       "version_major": 2,
       "version_minor": 0
      },
      "text/plain": [
       "HBox(children=(IntProgress(value=0, max=200), HTML(value='')))"
      ]
     },
     "metadata": {},
     "output_type": "display_data"
    },
    {
     "name": "stdout",
     "output_type": "stream",
     "text": [
      "\n",
      "Epoch: 35, Train: 0.021, Val: 0.367\n"
     ]
    },
    {
     "data": {
      "application/vnd.jupyter.widget-view+json": {
       "model_id": "7ec9ead4c93b451cabc5bf3c52f73177",
       "version_major": 2,
       "version_minor": 0
      },
      "text/plain": [
       "HBox(children=(IntProgress(value=0, max=200), HTML(value='')))"
      ]
     },
     "metadata": {},
     "output_type": "display_data"
    },
    {
     "name": "stdout",
     "output_type": "stream",
     "text": [
      "\n",
      "Epoch: 36, Train: 0.021, Val: 0.370\n"
     ]
    },
    {
     "data": {
      "application/vnd.jupyter.widget-view+json": {
       "model_id": "a13ff0f94bca47adbfc26bba0c19c4ba",
       "version_major": 2,
       "version_minor": 0
      },
      "text/plain": [
       "HBox(children=(IntProgress(value=0, max=200), HTML(value='')))"
      ]
     },
     "metadata": {},
     "output_type": "display_data"
    },
    {
     "name": "stdout",
     "output_type": "stream",
     "text": [
      "\n",
      "Epoch: 37, Train: 0.060, Val: 0.352\n"
     ]
    },
    {
     "data": {
      "application/vnd.jupyter.widget-view+json": {
       "model_id": "27fa8ee545774601add5e17783244a81",
       "version_major": 2,
       "version_minor": 0
      },
      "text/plain": [
       "HBox(children=(IntProgress(value=0, max=200), HTML(value='')))"
      ]
     },
     "metadata": {},
     "output_type": "display_data"
    },
    {
     "name": "stdout",
     "output_type": "stream",
     "text": [
      "\n",
      "Epoch: 38, Train: 0.064, Val: 0.285\n"
     ]
    },
    {
     "data": {
      "application/vnd.jupyter.widget-view+json": {
       "model_id": "440b81d91a574815ab2089429af1522c",
       "version_major": 2,
       "version_minor": 0
      },
      "text/plain": [
       "HBox(children=(IntProgress(value=0, max=200), HTML(value='')))"
      ]
     },
     "metadata": {},
     "output_type": "display_data"
    },
    {
     "name": "stdout",
     "output_type": "stream",
     "text": [
      "\n",
      "Epoch: 39, Train: 0.050, Val: 0.254\n"
     ]
    },
    {
     "data": {
      "application/vnd.jupyter.widget-view+json": {
       "model_id": "4332e697ebc644e7bece4df0a8ac25b0",
       "version_major": 2,
       "version_minor": 0
      },
      "text/plain": [
       "HBox(children=(IntProgress(value=0, max=200), HTML(value='')))"
      ]
     },
     "metadata": {},
     "output_type": "display_data"
    },
    {
     "name": "stdout",
     "output_type": "stream",
     "text": [
      "\n",
      "Epoch: 40, Train: 0.033, Val: 0.309\n"
     ]
    },
    {
     "data": {
      "application/vnd.jupyter.widget-view+json": {
       "model_id": "3fd531fcbc6d4292bfd3d14ac0c348bd",
       "version_major": 2,
       "version_minor": 0
      },
      "text/plain": [
       "HBox(children=(IntProgress(value=0, max=200), HTML(value='')))"
      ]
     },
     "metadata": {},
     "output_type": "display_data"
    },
    {
     "name": "stdout",
     "output_type": "stream",
     "text": [
      "\n",
      "Epoch: 41, Train: 0.025, Val: 0.333\n"
     ]
    },
    {
     "data": {
      "application/vnd.jupyter.widget-view+json": {
       "model_id": "654a946a7d1042d68c6ef0310f4ed3f6",
       "version_major": 2,
       "version_minor": 0
      },
      "text/plain": [
       "HBox(children=(IntProgress(value=0, max=200), HTML(value='')))"
      ]
     },
     "metadata": {},
     "output_type": "display_data"
    },
    {
     "name": "stdout",
     "output_type": "stream",
     "text": [
      "\n",
      "Epoch: 42, Train: 0.019, Val: 0.387\n"
     ]
    },
    {
     "data": {
      "application/vnd.jupyter.widget-view+json": {
       "model_id": "06a8052c11cb4a9ca51e40265fb3872f",
       "version_major": 2,
       "version_minor": 0
      },
      "text/plain": [
       "HBox(children=(IntProgress(value=0, max=200), HTML(value='')))"
      ]
     },
     "metadata": {},
     "output_type": "display_data"
    },
    {
     "name": "stdout",
     "output_type": "stream",
     "text": [
      "\n",
      "Epoch: 43, Train: 0.016, Val: 0.402\n"
     ]
    },
    {
     "data": {
      "application/vnd.jupyter.widget-view+json": {
       "model_id": "7f0d0cd5909d43bb9f94a0dc4148dd52",
       "version_major": 2,
       "version_minor": 0
      },
      "text/plain": [
       "HBox(children=(IntProgress(value=0, max=200), HTML(value='')))"
      ]
     },
     "metadata": {},
     "output_type": "display_data"
    },
    {
     "name": "stdout",
     "output_type": "stream",
     "text": [
      "\n",
      "Epoch: 44, Train: 0.015, Val: 0.417\n"
     ]
    },
    {
     "data": {
      "application/vnd.jupyter.widget-view+json": {
       "model_id": "e03a8fbb943244659c86104b43a5b1b3",
       "version_major": 2,
       "version_minor": 0
      },
      "text/plain": [
       "HBox(children=(IntProgress(value=0, max=200), HTML(value='')))"
      ]
     },
     "metadata": {},
     "output_type": "display_data"
    },
    {
     "name": "stdout",
     "output_type": "stream",
     "text": [
      "\n",
      "Epoch: 45, Train: 0.014, Val: 0.480\n"
     ]
    },
    {
     "data": {
      "application/vnd.jupyter.widget-view+json": {
       "model_id": "5756a6129ddb4f2cbd5bc95653750488",
       "version_major": 2,
       "version_minor": 0
      },
      "text/plain": [
       "HBox(children=(IntProgress(value=0, max=200), HTML(value='')))"
      ]
     },
     "metadata": {},
     "output_type": "display_data"
    },
    {
     "name": "stdout",
     "output_type": "stream",
     "text": [
      "\n",
      "Epoch: 46, Train: 0.013, Val: 0.450\n"
     ]
    },
    {
     "data": {
      "application/vnd.jupyter.widget-view+json": {
       "model_id": "6b89b6cf450545a6b49a485cd3384416",
       "version_major": 2,
       "version_minor": 0
      },
      "text/plain": [
       "HBox(children=(IntProgress(value=0, max=200), HTML(value='')))"
      ]
     },
     "metadata": {},
     "output_type": "display_data"
    },
    {
     "name": "stdout",
     "output_type": "stream",
     "text": [
      "\n",
      "Epoch: 47, Train: 0.013, Val: 0.502\n"
     ]
    },
    {
     "data": {
      "application/vnd.jupyter.widget-view+json": {
       "model_id": "4855b47b59284e7c83ad7b94b14f363b",
       "version_major": 2,
       "version_minor": 0
      },
      "text/plain": [
       "HBox(children=(IntProgress(value=0, max=200), HTML(value='')))"
      ]
     },
     "metadata": {},
     "output_type": "display_data"
    },
    {
     "name": "stdout",
     "output_type": "stream",
     "text": [
      "\n",
      "Epoch: 48, Train: 0.012, Val: 0.523\n"
     ]
    },
    {
     "data": {
      "application/vnd.jupyter.widget-view+json": {
       "model_id": "d6c8892f9f784ad1b48998f1caa5fa86",
       "version_major": 2,
       "version_minor": 0
      },
      "text/plain": [
       "HBox(children=(IntProgress(value=0, max=200), HTML(value='')))"
      ]
     },
     "metadata": {},
     "output_type": "display_data"
    },
    {
     "name": "stdout",
     "output_type": "stream",
     "text": [
      "\n",
      "Epoch: 49, Train: 0.012, Val: 0.515\n"
     ]
    }
   ],
   "source": [
    "import gc\n",
    "gc.collect()\n",
    "\n",
    "# Get defined UNet model.\n",
    "model = resnet34()\n",
    "# Set Binary Crossentropy as loss function.\n",
    "loss_fn = torch.nn.BCELoss()\n",
    "\n",
    "# Set optimizer.\n",
    "learning_rate = 1e-4\n",
    "optimizer = torch.optim.Adam(model.parameters(), lr=learning_rate)\n",
    "\n",
    "\n",
    "# Train for n epochs\n",
    "n = 50\n",
    "for e in range(n):\n",
    "\n",
    "    # Training:\n",
    "    train_loss = []\n",
    "    for image, mask in tqdm_notebook(train_loader):\n",
    "        \n",
    "        gc.collect()\n",
    "        \n",
    "        # Put image on chosen device\n",
    "        image = image.type(torch.float).to(device)\n",
    "        # Predict with model:\n",
    "        y_pred = model(image)\n",
    "        # Compute loss between true and predicted values\n",
    "        loss = loss_fn(y_pred, mask.to(device))\n",
    "\n",
    "        # Set model gradients to zero.\n",
    "        optimizer.zero_grad()\n",
    "        # Backpropagate the loss.\n",
    "        loss.backward()\n",
    "\n",
    "        # Perform single optimization step - parameter update\n",
    "        optimizer.step()\n",
    "        \n",
    "        # Append training loss\n",
    "        train_loss.append(loss.item())\n",
    "\n",
    "    # Validation:\n",
    "    val_loss = []\n",
    "    val_iou = []\n",
    "    for image, mask in valid_loader:\n",
    "        \n",
    "        image = image.to(device)\n",
    "        y_pred = model(image)\n",
    "        \n",
    "        loss = loss_fn(y_pred, mask.to(device))\n",
    "        val_loss.append(loss.item())\n",
    "\n",
    "    print(\"Epoch: %d, Train: %.3f, Val: %.3f\" %\n",
    "          (e, np.mean(train_loss), np.mean(val_loss)))\n",
    "    torch.save(model, 'uresnetv1e{}.pt'.format(e))\n"
   ]
  },
  {
   "cell_type": "markdown",
   "metadata": {},
   "source": [
    "__Reload model:__"
   ]
  },
  {
   "cell_type": "code",
   "execution_count": 21,
   "metadata": {},
   "outputs": [],
   "source": [
    "model = torch.load('uresnetv1e9.pt')"
   ]
  },
  {
   "cell_type": "markdown",
   "metadata": {},
   "source": [
    "# Test Prediction:"
   ]
  },
  {
   "cell_type": "code",
   "execution_count": 22,
   "metadata": {},
   "outputs": [
    {
     "data": {
      "application/vnd.jupyter.widget-view+json": {
       "model_id": "ce5e70a505634dd9b9d14b1df5754cbc",
       "version_major": 2,
       "version_minor": 0
      },
      "text/plain": [
       "HBox(children=(IntProgress(value=0, max=1125), HTML(value='')))"
      ]
     },
     "metadata": {},
     "output_type": "display_data"
    },
    {
     "name": "stdout",
     "output_type": "stream",
     "text": [
      "(18000, 101, 101)\n"
     ]
    }
   ],
   "source": [
    "test_predictions = []\n",
    "\n",
    "for image in tqdm_notebook(test_loader):\n",
    "    image = image[0].type(torch.float).to(device)\n",
    "    y_pred = model(image).cpu().detach().numpy()\n",
    "    test_predictions.append(y_pred)\n",
    "\n",
    "    \n",
    "test_predictions_stacked = np.vstack(test_predictions)[:, 0, :, :]\n",
    "test_predictions_stacked = test_predictions_stacked[:, y_min_pad:-y_max_pad, x_min_pad:-x_max_pad]\n",
    "\n",
    "print(test_predictions_stacked.shape)"
   ]
  },
  {
   "cell_type": "markdown",
   "metadata": {},
   "source": [
    "__Prepare submission:__"
   ]
  },
  {
   "cell_type": "code",
   "execution_count": 23,
   "metadata": {},
   "outputs": [
    {
     "data": {
      "application/vnd.jupyter.widget-view+json": {
       "model_id": "c8b10c0a950c47459eaf28049799eec4",
       "version_major": 2,
       "version_minor": 0
      },
      "text/plain": [
       "HBox(children=(IntProgress(value=0, max=18000), HTML(value='')))"
      ]
     },
     "metadata": {},
     "output_type": "display_data"
    }
   ],
   "source": [
    "def rle_encode(im):\n",
    "    pixels = im.flatten(order='F')\n",
    "    pixels = np.concatenate([[0], pixels, [0]])\n",
    "    runs = np.where(pixels[1:] != pixels[:-1])[0] + 1\n",
    "    runs[1::2] -= runs[::2]\n",
    "    return ' '.join(str(x) for x in runs)\n",
    "\n",
    "\n",
    "# To perform RLE, predictions must be in binary integer (0/1) format.\n",
    "binary_prediction = (test_predictions_stacked > 0.5).astype(int)\n",
    "\n",
    "# RLE encoding.\n",
    "all_masks = {idx:rle_encode(binary_prediction[i])\n",
    "                           for i, idx in enumerate(\n",
    "                               tqdm_notebook(test_ids))}"
   ]
  },
  {
   "cell_type": "code",
   "execution_count": 24,
   "metadata": {},
   "outputs": [],
   "source": [
    "submission = pd.DataFrame.from_dict(all_masks, orient='index')\n",
    "submission.index.names = ['id']\n",
    "submission.columns = ['rle_mask']\n",
    "submission.to_csv('submission.csv')"
   ]
  },
  {
   "cell_type": "code",
   "execution_count": 20,
   "metadata": {},
   "outputs": [
    {
     "data": {
      "text/plain": [
       "['uresnetv1e34.pt',\n",
       " 'sample_submission.csv',\n",
       " 'ff kNN.ipynb',\n",
       " 'uresnetv1e42.pt',\n",
       " 'EDA and LSTM tf.ipynb',\n",
       " 'test.zip',\n",
       " 'uresnetv1e43.pt',\n",
       " 'unet_resnet_pytorch.ipynb',\n",
       " 'uresnetv1e0.pt',\n",
       " 'train',\n",
       " 'uresnetv1e22.pt',\n",
       " 'uresnetv1e39.pt',\n",
       " 'uresnetv1e27.pt',\n",
       " 'uresnetv1e31.pt',\n",
       " 'uresnetv1e18.pt',\n",
       " 'depths.csv',\n",
       " 'uresnetv1e6.pt',\n",
       " 'uresnetv1e10.pt',\n",
       " 'uresnetv1e46.pt',\n",
       " 'uresnetv1e19.pt',\n",
       " 'uresnetv1e14.pt',\n",
       " 'uresnetv1e35.pt',\n",
       " 'uresnetv1e24.pt',\n",
       " 'uresnetv1e13.pt',\n",
       " 'uresnetv1e11.pt',\n",
       " 'uresnetv1e3.pt',\n",
       " 'train.zip',\n",
       " 'uresnetv1e30.pt',\n",
       " 'uresnetv1e25.pt',\n",
       " '.ipynb_checkpoints',\n",
       " 'unet_resnet_v0.model',\n",
       " 'uresnetv1e28.pt',\n",
       " 'uresnetv1e20.pt',\n",
       " 'resnet_unet_v0.ipynb',\n",
       " 'uresnetv1e15.pt',\n",
       " 'train.csv',\n",
       " 'submission.csv',\n",
       " 'uresnetv1e1.pt',\n",
       " 'test',\n",
       " 'uresnetv1e8.pt',\n",
       " 'uresnetv1e33.pt',\n",
       " 'uresnetv1e32.pt',\n",
       " 'uresnetv1e36.pt',\n",
       " 'unet_resnet_pytorch_v1.ipynb',\n",
       " 'uresnetv1e2.pt',\n",
       " 'uresnetv1e41.pt',\n",
       " 'uresnetv1e47.pt',\n",
       " 'EDA and LSTM.ipynb',\n",
       " 'uresnetv1e45.pt',\n",
       " 'registryupload_1.csv',\n",
       " 'uresnetv1e21.pt',\n",
       " 'unet_resnet_v0.csv',\n",
       " 'uresnetv1e26.pt',\n",
       " 'uresnetv1e48.pt',\n",
       " 'uresnetv1e9.pt',\n",
       " 'kNN_rmse.csv',\n",
       " 'uresnetv1e17.pt',\n",
       " 'uresnetv1e40.pt',\n",
       " 'uresnetv1e37.pt',\n",
       " 'uresnetv1e5.pt',\n",
       " 'uresnetv1e44.pt',\n",
       " 'uresnetv1e29.pt',\n",
       " 'uresnetv1e16.pt',\n",
       " 'uresnetv1e4.pt',\n",
       " 'uresnetv1e7.pt',\n",
       " 'uresnetv1e38.pt',\n",
       " 'uresnetv1e23.pt',\n",
       " 'uresnetv1e49.pt',\n",
       " 'kNN_results.csv',\n",
       " 'registryupload_2.csv',\n",
       " 'uresnetv1e12.pt']"
      ]
     },
     "execution_count": 20,
     "metadata": {},
     "output_type": "execute_result"
    }
   ],
   "source": [
    "os.listdir()"
   ]
  }
 ],
 "metadata": {
  "kernelspec": {
   "display_name": "Environment (conda_pytorch_p36)",
   "language": "python",
   "name": "conda_pytorch_p36"
  },
  "language_info": {
   "codemirror_mode": {
    "name": "ipython",
    "version": 3
   },
   "file_extension": ".py",
   "mimetype": "text/x-python",
   "name": "python",
   "nbconvert_exporter": "python",
   "pygments_lexer": "ipython3",
   "version": "3.6.6"
  }
 },
 "nbformat": 4,
 "nbformat_minor": 2
}
