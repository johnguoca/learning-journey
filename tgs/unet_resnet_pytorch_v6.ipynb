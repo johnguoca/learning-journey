{
 "cells": [
  {
   "cell_type": "code",
   "execution_count": 1,
   "metadata": {
    "scrolled": true
   },
   "outputs": [
    {
     "name": "stdout",
     "output_type": "stream",
     "text": [
      "['sample_submission.csv', 'uresnetv6e1statef1bl.pt', 'ff kNN.ipynb', 'uresnetv6e18statef1bl.pt', 'EDA and LSTM tf.ipynb', 'uresnetv6e53statef1.pt', 'unet_resnet_pytorch_v4.ipynb', 'uresnetv6e35statef1.pt', 'uresnetv6e46statef1.pt', 'uresnetv6e49statef1.pt', 'unet_resnet_pytorch.ipynb', 'uresnetv6e47statef1.pt', 'uresnetv6e33statef1.pt', 'train', 'uresnetv6e6statef1bl.pt', 'uresnetv6e11statef1.pt', 'uresnetv6e44statef1.pt', 'uresnetv6e13statef1bl.pt', 'uresnetv6e8statef1bl.pt', 'uresnetv6e2statef1.pt', 'depths.csv', 'uresnetv6e50statef1.pt', 'uresnetv6e54statef1.pt', 'uresnetv6e43statef1.pt', 'uresnetv6e5statef1bl.pt', 'uresnetv6e24statef1.pt', 'uresnetv6e30statef1.pt', 'uresnetv6e3statef1.pt', 'uresnetv6e3statef1bl.pt', 'uresnetv6e29statef1.pt', 'uresnetv6e1statef1.pt', 'uresnetv6e16statef1.pt', 'uresnetv6e41statef1.pt', 'uresnetv6e26statef1.pt', 'uresnetv6e18statef1.pt', 'uresnetv6e9statef1bl.pt', '.ipynb_checkpoints', 'uresnetv6e55statef1.pt', 'uresnetv6e36statef1.pt', 'uresnetv6e5statef1.pt', 'unet_resnet_v0.model', 'uresnetv6e28statef1.pt', 'resnet_unet_v0.ipynb', 'uresnetv6e48statef1.pt', 'uresnetv6e40statef1.pt', 'train.csv', 'submission.csv', 'uresnetv6e6statef1.pt', 'test', 'uresnetv6e20statef1.pt', 'uresnetv6e56statef1.pt', 'uresnetv6e8statef1.pt', 'unet_resnet_pytorch_v1.ipynb', 'uresnetv6e23statef1.pt', 'uresnetv6e37statef1.pt', 'unet_resnet_pytorch_v5.ipynb', 'EDA and LSTM.ipynb', 'uresnetv6e12statef1.pt', 'registryupload_1.csv', 'uresnetv6e22statef1.pt', 'unet_resnet_v0.csv', 'uresnetv6e10statef1.pt', 'uresnetv6e39statef1.pt', 'uresnetv6e32statef1.pt', 'uresnetv6e0statef1.pt', 'uresnetv6e15statef1.pt', 'uresnetv6e4statef1bl.pt', 'uresnetv6e12statef1bl.pt', 'kNN_rmse.csv', 'uresnetv6e27statef1bl.pt', 'uresnetv6e26statef1bl.pt', 'uresnetv6e19statef1.pt', 'uresnetv6e9statef1.pt', 'uresnetv6e27statef1.pt', 'uresnetv6e0statef1bl.pt', 'unet_resnet_pytorch_v2.ipynb', 'uresnetv6e21statef1.pt', 'unet_resnet_pytorch_v6.ipynb', 'uresnetv6e25statef1.pt', 'uresnetv6e20statef1bl.pt', 'uresnetv6e42statef1.pt', 'uresnetv6e13statef1.pt', 'uresnetv6e14statef1.pt', 'uresnetv6e2statef1bl.pt', 'uresnetv6e57statef1.pt', 'uresnetv6e21statef1bl.pt', 'uresnetv6e25statef1bl.pt', 'uresnetv6e34statef1.pt', 'uresnetv6e38statef1.pt', 'uresnetv6e52statef1.pt', 'uresnetv6e7statef1.pt', 'kNN_results.csv', 'uresnetv6e51statef1.pt', 'registryupload_2.csv', 'uresnetv6e45statef1.pt', 'uresnetv6e4statef1.pt', 'uresnetv6e17statef1.pt', 'uresnetv6e31statef1.pt']\n"
     ]
    }
   ],
   "source": [
    "import os\n",
    "import sys\n",
    "import random\n",
    "\n",
    "import pandas as pd\n",
    "import numpy as np\n",
    "import matplotlib.pyplot as plt\n",
    "plt.style.use('seaborn-white')\n",
    "# import seaborn as sns\n",
    "# sns.set_style(\"white\")\n",
    "\n",
    "%matplotlib inline\n",
    "\n",
    "import cv2\n",
    "from sklearn.model_selection import train_test_split\n",
    "from tqdm import tqdm_notebook #, tnrange\n",
    "\n",
    "#from itertools import chain\n",
    "# from skimage.io import imread, imshow #, concatenate_images\n",
    "# from skimage.transform import resize\n",
    "# from skimage.morphology import label\n",
    "\n",
    "import torch\n",
    "import torchvision\n",
    "from torch import nn\n",
    "from torch.nn import functional as F\n",
    "from torch.utils import data\n",
    "from torchvision import models\n",
    "import torch.utils.model_zoo as model_zoo\n",
    "\n",
    "import time\n",
    "t_start = time.time()\n",
    "\n",
    "# print(\"Program started at:\", t_start)\n",
    "print(os.listdir())"
   ]
  },
  {
   "cell_type": "markdown",
   "metadata": {},
   "source": [
    "# Parameters:"
   ]
  },
  {
   "cell_type": "code",
   "execution_count": 2,
   "metadata": {},
   "outputs": [
    {
     "name": "stdout",
     "output_type": "stream",
     "text": [
      "Device: cuda:0\n"
     ]
    }
   ],
   "source": [
    "device = torch.device(\"cuda:0\" if torch.cuda.is_available() else \"cpu\")\n",
    "print(\"Device:\", device)\n",
    "data_src = ''\n",
    "\n",
    "quick_try = False\n",
    "grayscale = True\n",
    "\n",
    "orig_image_size = (101, 101)\n",
    "image_size = (128, 128)"
   ]
  },
  {
   "cell_type": "code",
   "execution_count": 3,
   "metadata": {},
   "outputs": [
    {
     "name": "stdout",
     "output_type": "stream",
     "text": [
      "Network architecture created.\n"
     ]
    }
   ],
   "source": [
    "\n",
    "# Resnet34 encoder from https://github.com/pytorch/vision/blob/master/torchvision/models/resnet.py\n",
    "__all__ = ['ResNet', 'resnet18', 'resnet34', 'resnet50', 'resnet101',\n",
    "           'resnet152']\n",
    "\n",
    "\n",
    "model_urls = {\n",
    "    'resnet18': 'https://download.pytorch.org/models/resnet18-5c106cde.pth',\n",
    "    'resnet34': 'https://download.pytorch.org/models/resnet34-333f7ec4.pth',\n",
    "    'resnet50': 'https://download.pytorch.org/models/resnet50-19c8e357.pth',\n",
    "    'resnet101': 'https://download.pytorch.org/models/resnet101-5d3b4d8f.pth',\n",
    "    'resnet152': 'https://download.pytorch.org/models/resnet152-b121ed2d.pth',\n",
    "}\n",
    "\n",
    "# A same convolution conv3x3 layer\n",
    "def conv3x3(inplanes, planes, stride=1):\n",
    "    \"\"\"3x3 convolution with padding\"\"\"\n",
    "    return nn.Conv2d(inplanes, planes, kernel_size=3, stride=stride,\n",
    "                     padding=1, bias=False)\n",
    "\n",
    "    \n",
    "def conv1x1(in_channels, out_channels, groups=1):\n",
    "    return nn.Conv2d(\n",
    "        in_channels,\n",
    "        out_channels,\n",
    "        kernel_size=1,\n",
    "        groups=groups,\n",
    "        stride=1)\n",
    "\n",
    "class CSE(nn.Module):\n",
    "    def __init__(self, in_ch, r):\n",
    "        super(CSE, self).__init__()\n",
    "\n",
    "        self.linear_1 = nn.Linear(in_ch, in_ch//r)\n",
    "        self.linear_2 = nn.Linear(in_ch//r, in_ch)\n",
    "        self.sigmoid = nn.Sigmoid()\n",
    "\n",
    "    def forward(self, x):\n",
    "        input_x = x\n",
    "\n",
    "        x = x.view(*(x.shape[:-2]),-1).mean(-1)\n",
    "        x = F.relu(self.linear_1(x), inplace=True)\n",
    "        x = self.linear_2(x)\n",
    "        x = x.unsqueeze(-1).unsqueeze(-1)\n",
    "        x = self.sigmoid(x)\n",
    "\n",
    "        x = input_x * x\n",
    "\n",
    "        return x\n",
    "\n",
    "class SSE(nn.Module):\n",
    "    def __init__(self, in_ch):\n",
    "        super(SSE, self).__init__()\n",
    "\n",
    "        self.conv = nn.Conv2d(in_ch, 1, kernel_size=1, stride=1)\n",
    "        self.sigmoid = nn.Sigmoid()\n",
    "    def forward(self, x):\n",
    "        input_x = x\n",
    "\n",
    "        x = self.conv(x)\n",
    "        x = self.sigmoid(x)\n",
    "\n",
    "        x = input_x * x\n",
    "\n",
    "        return x\n",
    "    \n",
    "class SCSE(nn.Module):\n",
    "    def __init__(self, in_ch, r):\n",
    "        super(SCSE, self).__init__()\n",
    "\n",
    "        self.cSE = CSE(in_ch, r)\n",
    "        self.sSE = SSE(in_ch)\n",
    "\n",
    "    def forward(self, x):\n",
    "        cSE = self.cSE(x)\n",
    "        sSE = self.sSE(x)\n",
    "\n",
    "        x = cSE + sSE\n",
    "\n",
    "        return x\n",
    "\n",
    "class BasicBlock(nn.Module):\n",
    "    expansion = 1\n",
    "\n",
    "    def __init__(self, inplanes, planes, stride=1, downsample=None):\n",
    "        super(BasicBlock, self).__init__()\n",
    "        self.conv1 = conv3x3(inplanes, planes, stride)\n",
    "        self.bn1 = nn.BatchNorm2d(planes)\n",
    "        self.relu = nn.ReLU(inplace=True)\n",
    "        self.conv2 = conv3x3(planes, planes)\n",
    "        self.bn2 = nn.BatchNorm2d(planes)\n",
    "        self.downsample = downsample\n",
    "        self.stride = stride\n",
    "\n",
    "    def forward(self, x):\n",
    "        residual = x\n",
    "\n",
    "        out = self.conv1(x)\n",
    "        out = self.bn1(out)\n",
    "        out = self.relu(out)\n",
    "\n",
    "        out = self.conv2(out)\n",
    "        out = self.bn2(out)\n",
    "\n",
    "        if self.downsample is not None:\n",
    "            residual = self.downsample(x)\n",
    "\n",
    "        out += residual\n",
    "        out = self.relu(out)\n",
    "\n",
    "        return out    \n",
    "\n",
    "# One residual block (for encoding layers)\n",
    "# Downsamples at the beginning if necessary\n",
    "class uBasicBlock(nn.Module):\n",
    "    expansion = 1\n",
    "\n",
    "    def __init__(self, inplanes, planes, stride=1, downsample=None, firstlayer=False):\n",
    "        super(BasicBlock, self).__init__()\n",
    "        self.downsample = downsample\n",
    "        self.inplanes = inplanes\n",
    "        self.firstlayer = firstlayer\n",
    "        self.bn1 = nn.BatchNorm2d(inplanes)\n",
    "        self.relu = nn.ReLU(inplace=True)\n",
    "        self.maxpool = nn.MaxPool2d(kernel_size=3, stride=2, padding=1) # WHY ARE WE USING 3x3 WINDOW? OH WELL\n",
    "        self.conv1 = conv3x3(inplanes, planes, stride)    \n",
    "        self.bn2 = nn.BatchNorm2d(planes)  \n",
    "        self.conv2 = conv3x3(planes, planes)              \n",
    "        self.stride = stride\n",
    "\n",
    "    def forward(self, x):\n",
    "        residual = x\n",
    "        # print(x.size())\n",
    "        x = self.bn1(x)\n",
    "        x = self.relu(x)\n",
    "        if self.firstlayer == True: # This is probably not the best way to do this... fix in the future\n",
    "            x = self.maxpool(x)\n",
    "            x = self.conv2(x)\n",
    "            residual = self.conv1(x)\n",
    "        else:\n",
    "            x = self.conv1(x)            \n",
    "        x = self.bn2(x)\n",
    "        x = self.relu(x)\n",
    "        x = self.conv2(x)\n",
    "        # print(x.size())\n",
    "        # print(residual.size())\n",
    "        \n",
    "        if self.downsample is not None:\n",
    "            residual = self.downsample(residual)\n",
    "        \n",
    "        x += residual\n",
    "        \n",
    "        return x\n",
    "\n",
    "# Decoder block containing 2D transposed Convolution upsampling the features\n",
    "class DecoderBlock(nn.Module):\n",
    "    def __init__(self, inplanes, planes, outplanes, stride=1):\n",
    "        super().__init__()\n",
    "        \n",
    "        self.block = nn.Sequential(\n",
    "            conv3x3(inplanes, planes, stride),\n",
    "            nn.BatchNorm2d(planes),\n",
    "            nn.ReLU(inplace=True),\n",
    "            conv3x3(planes, outplanes, stride),\n",
    "            nn.BatchNorm2d(outplanes),\n",
    "            nn.ReLU(inplace=True),\n",
    "            SCSE(outplanes, 2),\n",
    "            \n",
    "        )\n",
    "\n",
    "    def forward(self, x, e=None):\n",
    "        x = F.upsample(x, scale_factor=2, mode='bilinear', align_corners=True)\n",
    "        if e is not None:\n",
    "            x = torch.cat([x,e], 1)\n",
    "        return self.block(x)    \n",
    "\n",
    "\n",
    "# Need this separate class to load weights into? We'll see\n",
    "class ResNet(nn.Module):\n",
    "\n",
    "    def __init__(self, block, layers, num_classes=1000):\n",
    "        self.inplanes = 64\n",
    "        super(ResNet, self).__init__()\n",
    "        self.conv1 = nn.Conv2d(3, 64, kernel_size=7, stride=2, padding=3,\n",
    "                               bias=False)\n",
    "        self.bn1 = nn.BatchNorm2d(64)\n",
    "        self.relu = nn.ReLU(inplace=True)\n",
    "        self.maxpool = nn.MaxPool2d(kernel_size=3, stride=2, padding=1)\n",
    "        self.layer1 = self._make_layer(block, 64, layers[0])\n",
    "        self.layer2 = self._make_layer(block, 128, layers[1], stride=2)\n",
    "        self.layer3 = self._make_layer(block, 256, layers[2], stride=2)\n",
    "        self.layer4 = self._make_layer(block, 512, layers[3], stride=2)\n",
    "        self.avgpool = nn.AvgPool2d(7, stride=1)\n",
    "        self.fc = nn.Linear(512 * block.expansion, num_classes)\n",
    "\n",
    "        for m in self.modules():\n",
    "            if isinstance(m, nn.Conv2d):\n",
    "                nn.init.kaiming_normal_(m.weight, mode='fan_out', nonlinearity='relu')\n",
    "            elif isinstance(m, nn.BatchNorm2d):\n",
    "                nn.init.constant_(m.weight, 1)\n",
    "                nn.init.constant_(m.bias, 0)\n",
    "\n",
    "    def _make_layer(self, block, planes, blocks, stride=1):\n",
    "        downsample = None\n",
    "        if stride != 1 or self.inplanes != planes * block.expansion:\n",
    "            downsample = nn.Sequential(\n",
    "                nn.Conv2d(self.inplanes, planes * block.expansion,\n",
    "                          kernel_size=1, stride=stride, bias=False),\n",
    "                nn.BatchNorm2d(planes * block.expansion),\n",
    "            )\n",
    "\n",
    "        layers = []\n",
    "        layers.append(block(self.inplanes, planes, stride, downsample))\n",
    "        self.inplanes = planes * block.expansion\n",
    "        for i in range(1, blocks):\n",
    "            layers.append(block(self.inplanes, planes))\n",
    "\n",
    "        return nn.Sequential(*layers)\n",
    "\n",
    "    def forward(self, x):\n",
    "        x = self.conv1(x)\n",
    "        x = self.bn1(x)\n",
    "        x = self.relu(x)\n",
    "        x = self.maxpool(x)\n",
    "\n",
    "        x = self.layer1(x)\n",
    "        x = self.layer2(x)\n",
    "        x = self.layer3(x)\n",
    "        x = self.layer4(x)\n",
    "\n",
    "        x = self.avgpool(x)\n",
    "        x = x.view(x.size(0), -1)\n",
    "        x = self.fc(x)\n",
    "\n",
    "        return x\n",
    "\n",
    "        \n",
    "# WIP\n",
    "class UResNet(nn.Module):\n",
    "\n",
    "    def __init__(self, block, layers, num_classes=1000):\n",
    "        super(UResNet, self).__init__()\n",
    "        self.resnet = resnet34(pretrained=True)\n",
    "        self.conv1 = nn.Sequential(self.resnet.conv1,\n",
    "                                  self.resnet.bn1,\n",
    "                                  self.resnet.relu)\n",
    "        self.inplanes = 64\n",
    "        \n",
    "        # Encoding layers\n",
    "        self.layer1 = self.resnet.layer1\n",
    "        self.layer2 = self.resnet.layer2\n",
    "        self.layer3 = self.resnet.layer3\n",
    "        self.layer4 = self.resnet.layer4\n",
    "        \n",
    "        # self.avgpool = nn.AvgPool2d(7, stride=1)  # I don't think we need this in the U-net bottleneck layer\n",
    "        # self.fc = nn.Linear(512 * block.expansion, num_classes) # I don't think we need this in the U-net bottleneck layer\n",
    "        \n",
    "        # Center layer\n",
    "        self.center = nn.Sequential(#nn.BatchNorm2d(512),\n",
    "                                    #nn.ReLU(inplace=True),\n",
    "                                    nn.Conv2d(512, 512, kernel_size=3, padding=1, stride=1),\n",
    "                                    nn.BatchNorm2d(512),\n",
    "                                    nn.ReLU(inplace=True),\n",
    "                                    nn.Conv2d(512, 256, kernel_size=3, padding=1, stride=1),\n",
    "                                    nn.BatchNorm2d(256),\n",
    "                                    nn.ReLU(inplace=True),\n",
    "                                    nn.MaxPool2d(kernel_size=2, stride=2)\n",
    "                                   )\n",
    "        \n",
    "        # Decoding layers with cat\n",
    "       \n",
    "        self.layer4e = DecoderBlock(256 + 512, 512, 64)\n",
    "        self.layer3e = DecoderBlock(64 + 256, 256, 64)\n",
    "        self.layer2e = DecoderBlock(64 + 128, 128, 64)\n",
    "        self.layer1e = DecoderBlock(64 + 64, 64, 64)\n",
    "        self.layer0e = DecoderBlock(64, 32, 64) # This one no cat actually\n",
    "        # Decoding layers without cat\n",
    "        \n",
    "        self.logit = nn.Sequential(conv3x3(320,64,1),\n",
    "                                  nn.ReLU(inplace=True),\n",
    "                                  nn.Conv2d(64, 1, kernel_size=1, padding=0),\n",
    "                                  # nn.Sigmoid() # Lovasz-hinge needs logit output, not sigmoid\n",
    "                                  )\n",
    "        \n",
    "        self.relu = nn.ReLU(inplace=True)\n",
    "        \n",
    "        self.dropout2d = nn.Dropout2d()\n",
    "        \n",
    "\n",
    "        for m in self.modules():\n",
    "            if isinstance(m, nn.Conv2d):\n",
    "                nn.init.kaiming_normal_(m.weight, mode='fan_out', nonlinearity='relu')\n",
    "            elif isinstance(m, nn.BatchNorm2d):\n",
    "                nn.init.constant_(m.weight, 1)\n",
    "                nn.init.constant_(m.bias, 0)\n",
    "\n",
    "    def _make_encoding_layer(self, block, planes, blocks, stride=1, firstlayer=False):\n",
    "        downsample = None\n",
    "        if stride != 1 or self.inplanes != planes * block.expansion:\n",
    "            downsample = nn.Sequential(\n",
    "                nn.Conv2d(self.inplanes, planes * block.expansion,\n",
    "                          kernel_size=1, stride=stride, bias=False),\n",
    "                nn.BatchNorm2d(planes * block.expansion) # Is this batch norm necessary?,\n",
    "            )\n",
    "\n",
    "        layers = []\n",
    "        layers.append(block(self.inplanes, planes, stride, downsample, firstlayer=firstlayer))\n",
    "        self.inplanes = planes * block.expansion\n",
    "        \n",
    "        for i in range(1, blocks):\n",
    "            layers.append(block(self.inplanes, planes))\n",
    "\n",
    "        return nn.Sequential(*layers)\n",
    "    \n",
    "       \n",
    "    def forward(self, x):\n",
    "        # Pre-res layers\n",
    "        \n",
    "        x = self.conv1(x) # 128x128x1 -> 128x128x64\n",
    "        \n",
    "        # Encoding layers\n",
    "        conv2 = self.layer1(x) # 128x128x64 -> 64x64x64        \n",
    "        conv3 = self.layer2(conv2) # output: 32x32x128\n",
    "        conv4 = self.layer3(conv3) # output: 16x16x256\n",
    "        conv5 = self.layer4(conv4) # output: 8x8x512\n",
    "        f = self.center(conv5) #output: 4x4x256\n",
    "        \n",
    "        # Decoding layers\n",
    "        conv4e = self.layer4e(f, conv5) # output: 8x8x64\n",
    "        conv3e = self.layer3e(conv4e, conv4) # output: 16x16x64\n",
    "        conv2e = self.layer2e(conv3e, conv3) # output: 32x32x64\n",
    "        conv1e = self.layer1e(conv2e, conv2) # output: 64x64x64\n",
    "        conv0e = self.layer0e(conv1e) # output: 128x128x64\n",
    "        \n",
    "        # Hypercolumns\n",
    "        f = torch.cat([conv0e,\n",
    "                     F.interpolate(conv1e, scale_factor=2, mode='bilinear', align_corners=False),\n",
    "                     F.interpolate(conv2e, scale_factor=4, mode='bilinear', align_corners=False),\n",
    "                     F.interpolate(conv3e, scale_factor=8, mode='bilinear', align_corners=False),\n",
    "                     F.interpolate(conv4e, scale_factor=16, mode='bilinear', align_corners=False)], 1)\n",
    "        # f = self.dropout2d(f)\n",
    "        \n",
    "        y = self.logit(f)\n",
    "\n",
    "        \n",
    "        return y\n",
    "\n",
    "def resnet34(pretrained=False, **kwargs):\n",
    "    model = ResNet(BasicBlock, [3, 4, 6, 3], **kwargs)\n",
    "    if pretrained:\n",
    "        model.load_state_dict(model_zoo.load_url(model_urls['resnet34']))\n",
    "    model.train()\n",
    "    return model\n",
    "\n",
    "def Uresnet34(pretrained=False, **kwargs):\n",
    "    \"\"\"Constructs a ResNet-34 model.\n",
    "    Args:\n",
    "        pretrained (bool): If True, returns a model pre-trained on ImageNet\n",
    "    \"\"\"\n",
    "    model = UResNet(uBasicBlock, [3, 4, 6, 3], **kwargs)\n",
    "    if pretrained:\n",
    "        model.load_state_dict(model_zoo.load_url(model_urls['resnet34']))\n",
    "    model.train()\n",
    "    return model.to(device)\n",
    "    \n",
    "model = Uresnet34()\n",
    "print(\"Network architecture created.\")"
   ]
  },
  {
   "cell_type": "markdown",
   "metadata": {},
   "source": [
    "__Code for performing augmentations__:"
   ]
  },
  {
   "cell_type": "code",
   "execution_count": 4,
   "metadata": {},
   "outputs": [],
   "source": [
    "import imgaug as ia\n",
    "from imgaug import augmenters as iaa\n",
    "import cv2\n",
    "def do_augmentation(seqs, seq2_train, X_train, y_train):\n",
    "    # Use seq_det to build augmentation.\n",
    "\n",
    "    seq_det = seqs.to_deterministic()\n",
    "    X_train_aug = seq_det.augment_image(X_train)\n",
    "    X_train_aug = seq2_train.augment_image(X_train_aug)\n",
    "\n",
    "    y_train_aug = seq_det.augment_image(y_train)\n",
    "\n",
    "\n",
    "\n",
    "    if y_train_aug.shape != (101, 101):\n",
    "        X_train_aug = ia.imresize_single_image(X_train_aug, (101, 101), interpolation=\"linear\")\n",
    "        y_train_aug = ia.imresize_single_image(y_train_aug, (101, 101), interpolation=\"nearest\")\n",
    "\n",
    "\n",
    "    return np.array(X_train_aug), np.array(y_train_aug)\n",
    "\n",
    "\n",
    "# Sometimes(0.5, ...) applies the given augmenter in 50% of all cases,\n",
    "# e.g. Sometimes(0.5, GaussianBlur(0.3)) would blur roughly every second image.\n",
    "sometimes = lambda aug: iaa.Sometimes(0.5, aug)\n",
    "\n",
    "seq = iaa.Sequential([\n",
    "    iaa.Fliplr(0.5),  # horizontally flip\n",
    "\n",
    "    iaa.OneOf([\n",
    "        iaa.Noop(),\n",
    "        iaa.Affine(rotate=(-10, 10), translate_percent={\"x\": (-0.25, 0.25)}, mode='symmetric', cval=(0), backend=\"cv2\"),\n",
    "        iaa.Noop(),\n",
    "        iaa.CropAndPad(\n",
    "            percent=(-0.2, 0.2),\n",
    "            pad_mode=\"reflect\",\n",
    "            pad_cval=0,\n",
    "            keep_size=False\n",
    "        ),\n",
    "        # aa.Noop(),\n",
    "        # aa.PiecewiseAffine(scale=(0.01, 0.1), mode='edge', cval=(0)),\n",
    "    ])\n",
    "\n",
    "    # More as you want ...\n",
    "])\n",
    "seq_train = iaa.Sequential(\n",
    "    sometimes(iaa.Multiply((0.8, 1.2))),  # , per_channel=0.5\n",
    "    sometimes(iaa.Add((-0.2, 0.2))),  # , per_channel=0.5\n",
    "    sometimes(iaa.OneOf([\n",
    "        iaa.AdditiveGaussianNoise(scale=(0, 0.05)),\n",
    "        iaa.GaussianBlur(sigma=(0.0, 1.0)),\n",
    "    ]))\n",
    "\n",
    ")"
   ]
  },
  {
   "cell_type": "code",
   "execution_count": 5,
   "metadata": {},
   "outputs": [],
   "source": [
    "class TGSSaltDataset(data.Dataset):\n",
    "\n",
    "    def __init__(self,\n",
    "                 root_path,\n",
    "                 file_list,\n",
    "                 is_test=False,\n",
    "                 divide=False,\n",
    "                 reflect=False,\n",
    "                 image_size=(128, 128)):\n",
    "\n",
    "        self.root_path = root_path\n",
    "        self.file_list = file_list\n",
    "        self.is_test = is_test\n",
    "\n",
    "        self.divide = divide\n",
    "        self.reflect= reflect\n",
    "        self.image_size = image_size\n",
    "\n",
    "        self.orig_image_size = (101, 101)\n",
    "        self.padding_pixels = None\n",
    "        \n",
    "        \"\"\"\n",
    "        root_path: folder specifying files location\n",
    "        file_list: list of images IDs\n",
    "        is_test: whether train or test data is used (contains masks or not)\n",
    "        \n",
    "        divide: whether to divide by 255\n",
    "        image_size: output image size, should be divisible by 32\n",
    "        \n",
    "        orig_image_size: original images size\n",
    "        padding_pixels: placeholder for list of padding dimensions\n",
    "        \"\"\"\n",
    "\n",
    "    def __len__(self):\n",
    "        return len(self.file_list)\n",
    "\n",
    "    def __getitem__(self, index):\n",
    "        if index not in range(0, len(self.file_list)):\n",
    "            return self.__getitem__(np.random.randint(0, self.__len__()))\n",
    "\n",
    "        file_id = self.file_list[index]\n",
    "\n",
    "        # Get image path\n",
    "        image_folder = os.path.join(self.root_path, 'images')\n",
    "        image_path = os.path.join(image_folder, file_id + '.png')\n",
    "    \n",
    "        # Get mask path\n",
    "        mask_folder = os.path.join(self.root_path, 'masks')\n",
    "        mask_path = os.path.join(mask_folder, file_id + '.png')\n",
    "\n",
    "        # Load image\n",
    "        image = self.__load_image(image_path)\n",
    "        if not self.is_test:\n",
    "            # Load mask for training or evaluation\n",
    "            mask = self.__load_image(mask_path, mask=True)\n",
    "            if self.divide:\n",
    "                image = image / 255.\n",
    "                mask = mask / 255.\n",
    "            # Transform into torch float Tensors of shape (CxHxW).\n",
    "            image = torch.from_numpy(\n",
    "                np.expand_dims(image, axis=-1)).float().permute([2, 0, 1])            \n",
    "            image = self.__add_depth_channels(image)\n",
    "            mask = torch.from_numpy(\n",
    "                np.expand_dims(mask, axis=-1)).float().permute([2, 0, 1])\n",
    "            return image, mask\n",
    "\n",
    "        if self.is_test:\n",
    "            if self.divide:\n",
    "                image = image / 255.\n",
    "            image = torch.from_numpy(np.expand_dims(image, axis=-1)).float().permute([2, 0, 1])\n",
    "            image = self.__add_depth_channels(image)\n",
    "            return (image,)\n",
    "\n",
    "    def set_padding(self):\n",
    "\n",
    "        \"\"\"\n",
    "        Compute padding borders for images based on original and specified image size.\n",
    "        \"\"\"\n",
    "        \n",
    "        pad_floor = np.floor(\n",
    "            (np.asarray(self.image_size) - np.asarray(self.orig_image_size)) / 2)\n",
    "        pad_ceil = np.ceil((np.asarray(self.image_size) -\n",
    "                            np.asarray(self.orig_image_size)) / 2)\n",
    "\n",
    "        self.padding_pixels = np.asarray(\n",
    "            (pad_floor[0], pad_ceil[0], pad_floor[1], pad_ceil[1])).astype(np.int32)\n",
    "\n",
    "        return\n",
    "\n",
    "    def __pad_image(self, img):\n",
    "        \n",
    "        \"\"\"\n",
    "        Pad images according to border set in set_padding.\n",
    "        Original image is centered.\n",
    "        \"\"\"\n",
    "\n",
    "        y_min_pad, y_max_pad, x_min_pad, x_max_pad = self.padding_pixels[\n",
    "            0], self.padding_pixels[1], self.padding_pixels[2], self.padding_pixels[3]\n",
    "\n",
    "        img = cv2.copyMakeBorder(img, y_min_pad, y_max_pad,\n",
    "                                 x_min_pad, x_max_pad,\n",
    "                                 cv2.BORDER_REFLECT)\n",
    "\n",
    "        assert img.shape[:2] == self.image_size, '\\\n",
    "        Image after padding must have the same shape as input image.'\n",
    "\n",
    "        return img\n",
    "\n",
    "    def __load_image(self, path, mask=False):\n",
    "        \n",
    "        \"\"\"\n",
    "        Helper function for loading image.\n",
    "        If mask is loaded, it is loaded in grayscale (, 0) parameter.\n",
    "        \"\"\"\n",
    "\n",
    "        if mask:\n",
    "            img = cv2.imread(str(path), 0)\n",
    "        else:\n",
    "            img = cv2.imread(str(path), 0)\n",
    "\n",
    "        height, width = img.shape[0], img.shape[1]        \n",
    "        \n",
    "               \n",
    "        if(self.reflect):\n",
    "            \n",
    "            img = np.fliplr(img)\n",
    "            \n",
    "                \n",
    "        img = self.__pad_image(img)\n",
    "\n",
    "        return img\n",
    "\n",
    "    def return_padding_borders(self):\n",
    "        \"\"\"\n",
    "        Return padding borders to easily crop the images.\n",
    "        \"\"\"\n",
    "        return self.padding_pixels\n",
    "    \n",
    "    def __add_depth_channels(self, image):    \n",
    "        \"\"\"\n",
    "        Encodes depth information into channels.\n",
    "        \"\"\"\n",
    "        _, h, w = image.size()  \n",
    "        \n",
    "        \n",
    "\n",
    "        temp1 = torch.zeros([1, h, w], dtype=torch.float32)\n",
    "        temp2 = torch.zeros([1, h, w], dtype=torch.float32)\n",
    "\n",
    "        for row, const in enumerate(np.linspace(0, 1, h)):\n",
    "            temp1[0, row, :] = const\n",
    "        temp2 = image[0] * temp1\n",
    "        image = torch.cat((image, temp1, temp2), 0)\n",
    "        \n",
    "        return image"
   ]
  },
  {
   "cell_type": "markdown",
   "metadata": {},
   "source": [
    "# Load initial data into dataframes"
   ]
  },
  {
   "cell_type": "code",
   "execution_count": 6,
   "metadata": {},
   "outputs": [
    {
     "name": "stdout",
     "output_type": "stream",
     "text": [
      "# of training images: 4000\n",
      "# of training masks: 4000\n",
      "# of test images: 18000\n"
     ]
    },
    {
     "data": {
      "text/html": [
       "<div>\n",
       "<style scoped>\n",
       "    .dataframe tbody tr th:only-of-type {\n",
       "        vertical-align: middle;\n",
       "    }\n",
       "\n",
       "    .dataframe tbody tr th {\n",
       "        vertical-align: top;\n",
       "    }\n",
       "\n",
       "    .dataframe thead th {\n",
       "        text-align: right;\n",
       "    }\n",
       "</style>\n",
       "<table border=\"1\" class=\"dataframe\">\n",
       "  <thead>\n",
       "    <tr style=\"text-align: right;\">\n",
       "      <th></th>\n",
       "      <th>rle_mask</th>\n",
       "      <th>z</th>\n",
       "    </tr>\n",
       "    <tr>\n",
       "      <th>id</th>\n",
       "      <th></th>\n",
       "      <th></th>\n",
       "    </tr>\n",
       "  </thead>\n",
       "  <tbody>\n",
       "    <tr>\n",
       "      <th>575d24d81d</th>\n",
       "      <td>NaN</td>\n",
       "      <td>843</td>\n",
       "    </tr>\n",
       "    <tr>\n",
       "      <th>a266a2a9df</th>\n",
       "      <td>5051 5151</td>\n",
       "      <td>794</td>\n",
       "    </tr>\n",
       "    <tr>\n",
       "      <th>75efad62c1</th>\n",
       "      <td>9 93 109 94 210 94 310 95 411 95 511 96 612 96...</td>\n",
       "      <td>468</td>\n",
       "    </tr>\n",
       "    <tr>\n",
       "      <th>34e51dba6a</th>\n",
       "      <td>48 54 149 54 251 53 353 52 455 51 557 50 659 4...</td>\n",
       "      <td>727</td>\n",
       "    </tr>\n",
       "    <tr>\n",
       "      <th>4875705fb0</th>\n",
       "      <td>1111 1 1212 1 1313 1 1414 1 1514 2 1615 2 1716...</td>\n",
       "      <td>797</td>\n",
       "    </tr>\n",
       "  </tbody>\n",
       "</table>\n",
       "</div>"
      ],
      "text/plain": [
       "                                                     rle_mask    z\n",
       "id                                                                \n",
       "575d24d81d                                                NaN  843\n",
       "a266a2a9df                                          5051 5151  794\n",
       "75efad62c1  9 93 109 94 210 94 310 95 411 95 511 96 612 96...  468\n",
       "34e51dba6a  48 54 149 54 251 53 353 52 455 51 557 50 659 4...  727\n",
       "4875705fb0  1111 1 1212 1 1313 1 1414 1 1514 2 1615 2 1716...  797"
      ]
     },
     "execution_count": 6,
     "metadata": {},
     "output_type": "execute_result"
    }
   ],
   "source": [
    "train_df = pd.read_csv('train.csv', index_col = 'id')\n",
    "depths_df = pd.read_csv('depths.csv', index_col='id')\n",
    "train_df = train_df.join(depths_df)\n",
    "test_df = depths_df[~depths_df.index.isin(train_df.index)] # All depths not in train dataset are in \n",
    "\n",
    "print ('# of training images:', len(os.listdir('train/images')))\n",
    "print ('# of training masks:', len(os.listdir('train/masks')))\n",
    "print ('# of test images:', len(os.listdir('test/images')))\n",
    "\n",
    "train_df.head()\n"
   ]
  },
  {
   "cell_type": "markdown",
   "metadata": {},
   "source": [
    "# Load images using opencv"
   ]
  },
  {
   "cell_type": "code",
   "execution_count": 7,
   "metadata": {},
   "outputs": [
    {
     "name": "stdout",
     "output_type": "stream",
     "text": [
      "Loading training set.\n"
     ]
    },
    {
     "data": {
      "application/vnd.jupyter.widget-view+json": {
       "model_id": "0fac60921b004ea4810870fbae38a613",
       "version_major": 2,
       "version_minor": 0
      },
      "text/plain": [
       "HBox(children=(IntProgress(value=0, max=4000), HTML(value='')))"
      ]
     },
     "metadata": {},
     "output_type": "display_data"
    },
    {
     "name": "stdout",
     "output_type": "stream",
     "text": [
      "\n"
     ]
    }
   ],
   "source": [
    "X_train = []\n",
    "y_train = []\n",
    "\n",
    "print('Loading training set.')\n",
    "for i in tqdm_notebook(train_df.index):\n",
    "    img_src = 'train/images/{}.png'.format(i)\n",
    "    mask_src = 'train/masks/{}.png'.format(i)\n",
    "    if grayscale:\n",
    "        img_temp = cv2.imread(img_src, 0)        \n",
    "    else:\n",
    "        img_temp = cv2.imread(img_src)\n",
    "    mask_temp = cv2.imread(mask_src, 0)\n",
    "    if orig_image_size != image_size:\n",
    "        img_temp = cv2.resize(img_temp, image_size)\n",
    "        mask_temp = cv2.resize(mask_temp, image_size)\n",
    "    X_train.append(img_temp)\n",
    "    y_train.append(mask_temp)\n",
    "    # print(img_temp.shape)\n",
    "X_train = np.asarray(X_train)\n",
    "y_train = np.asarray(y_train)\n",
    "\n",
    "if grayscale:\n",
    "    X_train = np.expand_dims(X_train, -1)\n",
    "y_train = np.expand_dims(y_train, -1)"
   ]
  },
  {
   "cell_type": "code",
   "execution_count": 8,
   "metadata": {},
   "outputs": [
    {
     "name": "stdout",
     "output_type": "stream",
     "text": [
      "Compute mask coverage for each observation.\n"
     ]
    }
   ],
   "source": [
    "print('Compute mask coverage for each observation.')\n",
    "\n",
    "def cov_to_class(val):\n",
    "    for i in range(0, 11):\n",
    "        if val * 10 <= i:\n",
    "            return i\n",
    "\n",
    "# Percent of area covered by mask.\n",
    "train_df['coverage'] = np.mean(y_train / 255., axis=(1, 2))\n",
    "train_df['coverage_class'] = train_df.coverage.map(\n",
    "    cov_to_class)"
   ]
  },
  {
   "cell_type": "markdown",
   "metadata": {},
   "source": [
    "__Parameters for data loading:__"
   ]
  },
  {
   "cell_type": "code",
   "execution_count": 9,
   "metadata": {},
   "outputs": [],
   "source": [
    "train_path = 'train'\n",
    "test_path = 'test'\n",
    "\n",
    "train_ids = train_df.index.values\n",
    "test_ids = test_df.index.values\n",
    "\n",
    "from sklearn.model_selection import train_test_split\n",
    "\n",
    "tr_ids, valid_ids, tr_coverage, valid_coverage = train_test_split(\n",
    "    train_ids,\n",
    "    train_df.coverage.values,\n",
    "    test_size=0.1, stratify=train_df.coverage_class, random_state= 888)"
   ]
  },
  {
   "cell_type": "markdown",
   "metadata": {},
   "source": [
    "__Define Data Loading__:"
   ]
  },
  {
   "cell_type": "code",
   "execution_count": 10,
   "metadata": {},
   "outputs": [],
   "source": [
    "# Training dataset:\n",
    "dataset_train = TGSSaltDataset(train_path, tr_ids, divide=True)\n",
    "dataset_train.set_padding()\n",
    "y_min_pad, y_max_pad, x_min_pad, x_max_pad = dataset_train.return_padding_borders()\n",
    "        \n",
    "# Validation dataset:\n",
    "dataset_val = TGSSaltDataset(train_path, valid_ids, divide=True)\n",
    "dataset_val.set_padding()\n",
    "\n",
    "# Test dataset:\n",
    "dataset_test = TGSSaltDataset(test_path, test_ids, is_test=True, divide=True)\n",
    "dataset_test.set_padding()\n",
    "\n",
    "\n",
    "# Data loaders:\n",
    "# Use multiple workers to optimize data loading speed.\n",
    "# Pin memory for quicker GPU processing.\n",
    "batch_size = 32\n",
    "\n",
    "train_loader = data.DataLoader(\n",
    "    dataset_train,\n",
    "    batch_size=batch_size,\n",
    "    shuffle=True,\n",
    "    num_workers=4,\n",
    "    pin_memory=True)\n",
    "\n",
    "# Do not shuffle for validation and test.\n",
    "valid_loader = data.DataLoader(\n",
    "    dataset_val,\n",
    "    batch_size=batch_size,\n",
    "    shuffle=False,\n",
    "    num_workers=4,\n",
    "    pin_memory=True)\n",
    "\n",
    "test_loader = data.DataLoader(\n",
    "    dataset_test,\n",
    "    batch_size=batch_size,\n",
    "    shuffle=False,\n",
    "    num_workers=4,\n",
    "    pin_memory=True)"
   ]
  },
  {
   "cell_type": "markdown",
   "metadata": {},
   "source": [
    "__Lovasz Loss Function:__"
   ]
  },
  {
   "cell_type": "code",
   "execution_count": 11,
   "metadata": {},
   "outputs": [],
   "source": [
    "\"\"\"\n",
    "https://github.com/bermanmaxim/LovaszSoftmax/blob/master/pytorch/lovasz_losses.py\n",
    "\"\"\"\n",
    "try:\n",
    "    from itertools import  ifilterfalse\n",
    "except ImportError: # py3k\n",
    "    from itertools import  filterfalse\n",
    "\n",
    "\n",
    "def lovasz_grad(gt_sorted):\n",
    "    \"\"\"\n",
    "    Computes gradient of the Lovasz extension w.r.t sorted errors\n",
    "    See Alg. 1 in paper\n",
    "    \"\"\"\n",
    "    p = len(gt_sorted)\n",
    "    gts = gt_sorted.sum()\n",
    "    intersection = gts - gt_sorted.float().cumsum(0)\n",
    "    union = gts + (1 - gt_sorted).float().cumsum(0)\n",
    "    jaccard = 1. - intersection / union\n",
    "    if p > 1: # cover 1-pixel case\n",
    "        jaccard[1:p] = jaccard[1:p] - jaccard[0:-1]\n",
    "    return jaccard\n",
    "\n",
    "\n",
    "def iou_binary(preds, labels, EMPTY=1., ignore=None, per_image=True):\n",
    "    \"\"\"\n",
    "    IoU for foreground class\n",
    "    binary: 1 foreground, 0 background\n",
    "    \"\"\"\n",
    "    if not per_image:\n",
    "        preds, labels = (preds,), (labels,)\n",
    "    ious = []\n",
    "    for pred, label in zip(preds, labels):\n",
    "        intersection = ((label == 1) & (pred == 1)).sum()\n",
    "        union = ((label == 1) | ((pred == 1) & (label != ignore))).sum()\n",
    "        if not union:\n",
    "            iou = EMPTY\n",
    "        else:\n",
    "            iou = float(intersection) / union\n",
    "        ious.append(iou)\n",
    "    iou = mean(ious)    # mean accross images if per_image\n",
    "    return 100 * iou\n",
    "\n",
    "\n",
    "def iou(preds, labels, C, EMPTY=1., ignore=None, per_image=False):\n",
    "    \"\"\"\n",
    "    Array of IoU for each (non ignored) class\n",
    "    \"\"\"\n",
    "    if not per_image:\n",
    "        preds, labels = (preds,), (labels,)\n",
    "    ious = []\n",
    "    for pred, label in zip(preds, labels):\n",
    "        iou = []    \n",
    "        for i in range(C):\n",
    "            if i != ignore: # The ignored label is sometimes among predicted classes (ENet - CityScapes)\n",
    "                intersection = ((label == i) & (pred == i)).sum()\n",
    "                union = ((label == i) | ((pred == i) & (label != ignore))).sum()\n",
    "                if not union:\n",
    "                    iou.append(EMPTY)\n",
    "                else:\n",
    "                    iou.append(float(intersection) / union)\n",
    "        ious.append(iou)\n",
    "    ious = map(mean, zip(*ious)) # mean accross images if per_image\n",
    "    return 100 * np.array(ious)\n",
    "\n",
    "\n",
    "# --------------------------- BINARY LOSSES ---------------------------\n",
    "\n",
    "\n",
    "def lovasz_hinge(logits, labels, per_image=True, ignore=None):\n",
    "    \"\"\"\n",
    "    Binary Lovasz hinge loss\n",
    "      logits: [B, H, W] Variable, logits at each pixel (between -\\infty and +\\infty)\n",
    "      labels: [B, H, W] Tensor, binary ground truth masks (0 or 1)\n",
    "      per_image: compute the loss per image instead of per batch\n",
    "      ignore: void class id\n",
    "    \"\"\"\n",
    "    if per_image:\n",
    "        loss = mean(lovasz_hinge_flat(*flatten_binary_scores(log.unsqueeze(0), lab.unsqueeze(0), ignore))\n",
    "                          for log, lab in zip(logits, labels))\n",
    "    else:\n",
    "        loss = lovasz_hinge_flat(*flatten_binary_scores(logits, labels, ignore))\n",
    "    return loss\n",
    "\n",
    "\n",
    "def lovasz_hinge_flat(logits, labels):\n",
    "    \"\"\"\n",
    "    Binary Lovasz hinge loss\n",
    "      logits: [P] Variable, logits at each prediction (between -\\infty and +\\infty)\n",
    "      labels: [P] Tensor, binary ground truth labels (0 or 1)\n",
    "      ignore: label to ignore\n",
    "    \"\"\"\n",
    "    if len(labels) == 0:\n",
    "        # only void pixels, the gradients should be 0\n",
    "        return logits.sum() * 0.\n",
    "    signs = 2. * labels.float() - 1.\n",
    "    errors = (1. - logits * Variable(signs))\n",
    "    errors_sorted, perm = torch.sort(errors, dim=0, descending=True)\n",
    "    perm = perm.data\n",
    "    gt_sorted = labels[perm]\n",
    "    grad = lovasz_grad(gt_sorted)\n",
    "    loss = torch.dot(F.elu_(errors_sorted) + 1, Variable(grad))\n",
    "    return loss\n",
    "\n",
    "\n",
    "def flatten_binary_scores(scores, labels, ignore=None):\n",
    "    \"\"\"\n",
    "    Flattens predictions in the batch (binary case)\n",
    "    Remove labels equal to 'ignore'\n",
    "    \"\"\"\n",
    "    scores = scores.view(-1)\n",
    "    labels = labels.view(-1)\n",
    "    if ignore is None:\n",
    "        return scores, labels\n",
    "    valid = (labels != ignore)\n",
    "    vscores = scores[valid]\n",
    "    vlabels = labels[valid]\n",
    "    return vscores, vlabels\n",
    "\n",
    "\n",
    "class StableBCELoss(torch.nn.modules.Module):\n",
    "    def __init__(self):\n",
    "         super(StableBCELoss, self).__init__()\n",
    "    def forward(self, input, target):\n",
    "         neg_abs = - input.abs()\n",
    "         loss = input.clamp(min=0) - input * target + (1 + neg_abs.exp()).log()\n",
    "         return loss.mean()\n",
    "\n",
    "\n",
    "def binary_xloss(logits, labels, ignore=None):\n",
    "    \"\"\"\n",
    "    Binary Cross entropy loss\n",
    "      logits: [B, H, W] Variable, logits at each pixel (between -\\infty and +\\infty)\n",
    "      labels: [B, H, W] Tensor, binary ground truth masks (0 or 1)\n",
    "      ignore: void class id\n",
    "    \"\"\"\n",
    "    logits, labels = flatten_binary_scores(logits, labels, ignore)\n",
    "    loss = StableBCELoss()(logits, Variable(labels.float()))\n",
    "    return loss\n",
    "\n",
    "\n",
    "# --------------------------- MULTICLASS LOSSES ---------------------------\n",
    "\n",
    "\n",
    "def lovasz_softmax(probas, labels, only_present=False, per_image=False, ignore=None):\n",
    "    \"\"\"\n",
    "    Multi-class Lovasz-Softmax loss\n",
    "      probas: [B, C, H, W] Variable, class probabilities at each prediction (between 0 and 1)\n",
    "      labels: [B, H, W] Tensor, ground truth labels (between 0 and C - 1)\n",
    "      only_present: average only on classes present in ground truth\n",
    "      per_image: compute the loss per image instead of per batch\n",
    "      ignore: void class labels\n",
    "    \"\"\"\n",
    "    if per_image:\n",
    "        loss = mean(lovasz_softmax_flat(*flatten_probas(prob.unsqueeze(0), lab.unsqueeze(0), ignore), only_present=only_present)\n",
    "                          for prob, lab in zip(probas, labels))\n",
    "    else:\n",
    "        loss = lovasz_softmax_flat(*flatten_probas(probas, labels, ignore), only_present=only_present)\n",
    "    return loss\n",
    "\n",
    "\n",
    "def lovasz_softmax_flat(probas, labels, only_present=False):\n",
    "    \"\"\"\n",
    "    Multi-class Lovasz-Softmax loss\n",
    "      probas: [P, C] Variable, class probabilities at each prediction (between 0 and 1)\n",
    "      labels: [P] Tensor, ground truth labels (between 0 and C - 1)\n",
    "      only_present: average only on classes present in ground truth\n",
    "    \"\"\"\n",
    "    C = probas.size(1)\n",
    "    losses = []\n",
    "    for c in range(C):\n",
    "        fg = (labels == c).float() # foreground for class c\n",
    "        if only_present and fg.sum() == 0:\n",
    "            continue\n",
    "        errors = (Variable(fg) - probas[:, c]).abs()\n",
    "        errors_sorted, perm = torch.sort(errors, 0, descending=True)\n",
    "        perm = perm.data\n",
    "        fg_sorted = fg[perm]\n",
    "        losses.append(torch.dot(errors_sorted, Variable(lovasz_grad(fg_sorted))))\n",
    "    return mean(losses)\n",
    "\n",
    "\n",
    "def flatten_probas(probas, labels, ignore=None):\n",
    "    \"\"\"\n",
    "    Flattens predictions in the batch\n",
    "    \"\"\"\n",
    "    B, C, H, W = probas.size()\n",
    "    probas = probas.permute(0, 2, 3, 1).contiguous().view(-1, C)  # B * H * W, C = P, C\n",
    "    labels = labels.view(-1)\n",
    "    if ignore is None:\n",
    "        return probas, labels\n",
    "    valid = (labels != ignore)\n",
    "    vprobas = probas[valid.nonzero().squeeze()]\n",
    "    vlabels = labels[valid]\n",
    "    return vprobas, vlabels\n",
    "\n",
    "def xloss(logits, labels, ignore=None):\n",
    "    \"\"\"\n",
    "    Cross entropy loss\n",
    "    \"\"\"\n",
    "    return F.cross_entropy(logits, Variable(labels), ignore_index=255)\n",
    "\n",
    "\n",
    "# --------------------------- HELPER FUNCTIONS ---------------------------\n",
    "\n",
    "def mean(l, ignore_nan=False, empty=0):\n",
    "    \"\"\"\n",
    "    nanmean compatible with generators.\n",
    "    \"\"\"\n",
    "    l = iter(l)\n",
    "    if ignore_nan:\n",
    "        l = ifilterfalse(np.isnan, l)\n",
    "    try:\n",
    "        n = 1\n",
    "        acc = next(l)\n",
    "    except StopIteration:\n",
    "        if empty == 'raise':\n",
    "            raise ValueError('Empty mean')\n",
    "        return empty\n",
    "    for n, v in enumerate(l, 2):\n",
    "        acc += v\n",
    "    if n == 1:\n",
    "        return acc\n",
    "    return acc / n"
   ]
  },
  {
   "cell_type": "markdown",
   "metadata": {},
   "source": [
    "# Training:"
   ]
  },
  {
   "cell_type": "code",
   "execution_count": 44,
   "metadata": {},
   "outputs": [],
   "source": [
    "# Run this to load previous model\n",
    "# model = torch.load('uresnetv4e15.pt')\n",
    "model.load_state_dict(torch.load('uresnetv6e18statef1bl.pt'))"
   ]
  },
  {
   "cell_type": "code",
   "execution_count": 12,
   "metadata": {},
   "outputs": [],
   "source": [
    "# Will be presented as metric\n",
    "def get_iou_vector(A, B):\n",
    "    batch_size = A.shape[0]\n",
    "    metric =[]\n",
    "    for batch in range(batch_size):\n",
    "        t, p = A[batch] > 0, B[batch] > 0\n",
    "        intersection = np.logical_and(t, p)\n",
    "        union = np.logical_or(t,p)\n",
    "        iou = (np.sum(intersection > 0) + 1e-10 )/ (np.sum(union > 0) + 1e-10)\n",
    "        thresholds = np.arange(0.5, 1, 0.05)\n",
    "        s = []\n",
    "        for thresh in thresholds:\n",
    "            s.append(iou > thresh)\n",
    "        metric.append(np.mean(s))\n",
    "\n",
    "    return np.mean(metric)"
   ]
  },
  {
   "cell_type": "code",
   "execution_count": 17,
   "metadata": {},
   "outputs": [],
   "source": [
    "from torch.optim.lr_scheduler import CosineAnnealingLR\n",
    "# Set optimizer\n",
    "learning_rate = 5e-4\n",
    "optimizer = torch.optim.Adam(model.parameters(), lr=learning_rate)\n",
    "#optimizer = torch.optim.SGD(model.parameters(), lr=learning_rate, momentum = 0.9, weight_decay = 0.0001)\n",
    "scheduler = CosineAnnealingLR(optimizer, T_max = 100)"
   ]
  },
  {
   "cell_type": "code",
   "execution_count": null,
   "metadata": {},
   "outputs": [
    {
     "data": {
      "application/vnd.jupyter.widget-view+json": {
       "model_id": "ab2e945bc5074fb9a0f90c40e105495e",
       "version_major": 2,
       "version_minor": 0
      },
      "text/plain": [
       "HBox(children=(IntProgress(value=0, max=113), HTML(value='')))"
      ]
     },
     "metadata": {},
     "output_type": "display_data"
    },
    {
     "name": "stderr",
     "output_type": "stream",
     "text": [
      "/home/ubuntu/anaconda3/envs/pytorch_p36/lib/python3.6/site-packages/torch/nn/functional.py:1890: UserWarning: nn.functional.upsample is deprecated. Use nn.functional.interpolate instead.\n",
      "  warnings.warn(\"nn.functional.upsample is deprecated. Use nn.functional.interpolate instead.\")\n"
     ]
    },
    {
     "name": "stdout",
     "output_type": "stream",
     "text": [
      "Epoch: 0, Train: 0.821, Val: 1.102, Train Accuracy: 0.805, Val Accuracy: 0.735, Best Loss: 0.290, Aug: 1.000\n"
     ]
    },
    {
     "data": {
      "application/vnd.jupyter.widget-view+json": {
       "model_id": "45a5801446d44b0689c4e276c817a039",
       "version_major": 2,
       "version_minor": 0
      },
      "text/plain": [
       "HBox(children=(IntProgress(value=0, max=113), HTML(value='')))"
      ]
     },
     "metadata": {},
     "output_type": "display_data"
    },
    {
     "name": "stdout",
     "output_type": "stream",
     "text": [
      "Epoch: 1, Train: 0.712, Val: 1.134, Train Accuracy: 0.816, Val Accuracy: 0.729, Best Loss: 0.267, Aug: 1.000\n"
     ]
    },
    {
     "data": {
      "application/vnd.jupyter.widget-view+json": {
       "model_id": "48b7dbefb18e4ea3be8feb053e45ad9e",
       "version_major": 2,
       "version_minor": 0
      },
      "text/plain": [
       "HBox(children=(IntProgress(value=0, max=113), HTML(value='')))"
      ]
     },
     "metadata": {},
     "output_type": "display_data"
    },
    {
     "name": "stdout",
     "output_type": "stream",
     "text": [
      "Epoch: 2, Train: 0.684, Val: 1.091, Train Accuracy: 0.818, Val Accuracy: 0.741, Best Loss: 0.259, Aug: 0.000\n"
     ]
    },
    {
     "data": {
      "application/vnd.jupyter.widget-view+json": {
       "model_id": "e6b9118be072441abe654220d985cb8f",
       "version_major": 2,
       "version_minor": 0
      },
      "text/plain": [
       "HBox(children=(IntProgress(value=0, max=113), HTML(value='')))"
      ]
     },
     "metadata": {},
     "output_type": "display_data"
    },
    {
     "name": "stdout",
     "output_type": "stream",
     "text": [
      "Epoch: 3, Train: 0.650, Val: 1.084, Train Accuracy: 0.823, Val Accuracy: 0.746, Best Loss: 0.259, Aug: 1.000\n"
     ]
    },
    {
     "data": {
      "application/vnd.jupyter.widget-view+json": {
       "model_id": "ea9d83d71a4a4658af600406c18bb4f8",
       "version_major": 2,
       "version_minor": 0
      },
      "text/plain": [
       "HBox(children=(IntProgress(value=0, max=113), HTML(value='')))"
      ]
     },
     "metadata": {},
     "output_type": "display_data"
    },
    {
     "name": "stdout",
     "output_type": "stream",
     "text": [
      "Epoch: 4, Train: 0.632, Val: 1.094, Train Accuracy: 0.824, Val Accuracy: 0.740, Best Loss: 0.259, Aug: 1.000\n"
     ]
    },
    {
     "data": {
      "application/vnd.jupyter.widget-view+json": {
       "model_id": "b22c17f615f342bfaaa793ddf8ff91df",
       "version_major": 2,
       "version_minor": 0
      },
      "text/plain": [
       "HBox(children=(IntProgress(value=0, max=113), HTML(value='')))"
      ]
     },
     "metadata": {},
     "output_type": "display_data"
    },
    {
     "name": "stdout",
     "output_type": "stream",
     "text": [
      "Epoch: 5, Train: 0.608, Val: 1.093, Train Accuracy: 0.824, Val Accuracy: 0.739, Best Loss: 0.231, Aug: 0.000\n"
     ]
    },
    {
     "data": {
      "application/vnd.jupyter.widget-view+json": {
       "model_id": "a175213dad4b46ecbca9fcb82296602a",
       "version_major": 2,
       "version_minor": 0
      },
      "text/plain": [
       "HBox(children=(IntProgress(value=0, max=113), HTML(value='')))"
      ]
     },
     "metadata": {},
     "output_type": "display_data"
    },
    {
     "name": "stdout",
     "output_type": "stream",
     "text": [
      "Epoch: 6, Train: 0.589, Val: 1.161, Train Accuracy: 0.824, Val Accuracy: 0.725, Best Loss: 0.231, Aug: 1.000\n"
     ]
    },
    {
     "data": {
      "application/vnd.jupyter.widget-view+json": {
       "model_id": "eabf0c7ecdb346faa20793588493884c",
       "version_major": 2,
       "version_minor": 0
      },
      "text/plain": [
       "HBox(children=(IntProgress(value=0, max=113), HTML(value='')))"
      ]
     },
     "metadata": {},
     "output_type": "display_data"
    },
    {
     "name": "stdout",
     "output_type": "stream",
     "text": [
      "Epoch: 7, Train: 0.547, Val: 1.188, Train Accuracy: 0.831, Val Accuracy: 0.732, Best Loss: 0.231, Aug: 1.000\n"
     ]
    },
    {
     "data": {
      "application/vnd.jupyter.widget-view+json": {
       "model_id": "63497ce1eeae4fe6b893548e1a651239",
       "version_major": 2,
       "version_minor": 0
      },
      "text/plain": [
       "HBox(children=(IntProgress(value=0, max=113), HTML(value='')))"
      ]
     },
     "metadata": {},
     "output_type": "display_data"
    },
    {
     "name": "stdout",
     "output_type": "stream",
     "text": [
      "Epoch: 8, Train: 0.543, Val: 1.310, Train Accuracy: 0.831, Val Accuracy: 0.726, Best Loss: 0.231, Aug: 0.000\n"
     ]
    },
    {
     "data": {
      "application/vnd.jupyter.widget-view+json": {
       "model_id": "11eb3c93451541f2b896372caa261afc",
       "version_major": 2,
       "version_minor": 0
      },
      "text/plain": [
       "HBox(children=(IntProgress(value=0, max=113), HTML(value='')))"
      ]
     },
     "metadata": {},
     "output_type": "display_data"
    },
    {
     "name": "stdout",
     "output_type": "stream",
     "text": [
      "Epoch: 9, Train: 0.525, Val: 1.320, Train Accuracy: 0.836, Val Accuracy: 0.719, Best Loss: 0.230, Aug: 1.000\n"
     ]
    },
    {
     "data": {
      "application/vnd.jupyter.widget-view+json": {
       "model_id": "f35bea71ada546d88238e2ba8dbb6d46",
       "version_major": 2,
       "version_minor": 0
      },
      "text/plain": [
       "HBox(children=(IntProgress(value=0, max=113), HTML(value='')))"
      ]
     },
     "metadata": {},
     "output_type": "display_data"
    },
    {
     "name": "stdout",
     "output_type": "stream",
     "text": [
      "Epoch: 10, Train: 0.519, Val: 1.251, Train Accuracy: 0.834, Val Accuracy: 0.721, Best Loss: 0.210, Aug: 0.000\n"
     ]
    },
    {
     "data": {
      "application/vnd.jupyter.widget-view+json": {
       "model_id": "b4c369a765b04a369611d829d96ccb21",
       "version_major": 2,
       "version_minor": 0
      },
      "text/plain": [
       "HBox(children=(IntProgress(value=0, max=113), HTML(value='')))"
      ]
     },
     "metadata": {},
     "output_type": "display_data"
    },
    {
     "name": "stdout",
     "output_type": "stream",
     "text": [
      "Epoch: 11, Train: 0.521, Val: 1.229, Train Accuracy: 0.832, Val Accuracy: 0.733, Best Loss: 0.210, Aug: 1.000\n"
     ]
    },
    {
     "data": {
      "application/vnd.jupyter.widget-view+json": {
       "model_id": "bea894ef6556483e850e2c6691302ae5",
       "version_major": 2,
       "version_minor": 0
      },
      "text/plain": [
       "HBox(children=(IntProgress(value=0, max=113), HTML(value='')))"
      ]
     },
     "metadata": {},
     "output_type": "display_data"
    },
    {
     "name": "stdout",
     "output_type": "stream",
     "text": [
      "Epoch: 12, Train: 0.476, Val: 1.257, Train Accuracy: 0.840, Val Accuracy: 0.745, Best Loss: 0.210, Aug: 0.000\n"
     ]
    },
    {
     "data": {
      "application/vnd.jupyter.widget-view+json": {
       "model_id": "cc698fe4039f4474993c5adf2eb6a193",
       "version_major": 2,
       "version_minor": 0
      },
      "text/plain": [
       "HBox(children=(IntProgress(value=0, max=113), HTML(value='')))"
      ]
     },
     "metadata": {},
     "output_type": "display_data"
    },
    {
     "name": "stdout",
     "output_type": "stream",
     "text": [
      "Epoch: 13, Train: 0.469, Val: 1.382, Train Accuracy: 0.842, Val Accuracy: 0.729, Best Loss: 0.146, Aug: 0.000\n"
     ]
    },
    {
     "data": {
      "application/vnd.jupyter.widget-view+json": {
       "model_id": "b604cc896ee1476e851a61ae2a311302",
       "version_major": 2,
       "version_minor": 0
      },
      "text/plain": [
       "HBox(children=(IntProgress(value=0, max=113), HTML(value='')))"
      ]
     },
     "metadata": {},
     "output_type": "display_data"
    },
    {
     "name": "stdout",
     "output_type": "stream",
     "text": [
      "Epoch: 14, Train: 0.479, Val: 1.276, Train Accuracy: 0.841, Val Accuracy: 0.725, Best Loss: 0.146, Aug: 0.000\n"
     ]
    },
    {
     "data": {
      "application/vnd.jupyter.widget-view+json": {
       "model_id": "18db92b63f0c48639f5170e7feb94903",
       "version_major": 2,
       "version_minor": 0
      },
      "text/plain": [
       "HBox(children=(IntProgress(value=0, max=113), HTML(value='')))"
      ]
     },
     "metadata": {},
     "output_type": "display_data"
    }
   ],
   "source": [
    "import gc\n",
    "from torch.autograd import Variable\n",
    "\n",
    "gc.collect()\n",
    "\n",
    "# Set Binary Crossentropy as loss function.\n",
    "loss_fn = torch.nn.BCEWithLogitsLoss()\n",
    "\n",
    "lovasz = True\n",
    "\n",
    "# Train for n epochs\n",
    "n = 70\n",
    "best_loss = 1000\n",
    "\n",
    "# Random generator\n",
    "import random\n",
    "\n",
    "def reflect(x):\n",
    "    x = x.cpu().detach().numpy()\n",
    "    x_flipped = np.flip(x, 3).copy()\n",
    "    x_flipped = torch.from_numpy(x_flipped)\n",
    "    return x_flipped\n",
    "\n",
    "for e in range(n):\n",
    "    \n",
    "    # aug = 1\n",
    "    # Training:\n",
    "    train_loss = []\n",
    "    train_iou = []\n",
    "    for image, mask in tqdm_notebook(train_loader):        \n",
    "        aug = random.randint(0, 1)\n",
    "        \n",
    "        gc.collect()\n",
    "        if aug == 1:\n",
    "            image = reflect(image)\n",
    "            mask = reflect(mask)\n",
    "        \n",
    "        # Put image on chosen device\n",
    "        image = image.type(torch.float).to(device)\n",
    "        # Predict with model:\n",
    "        y_pred = model(image)\n",
    "        \n",
    "        # Compute loss between true and predicted values\n",
    "        if lovasz:\n",
    "            loss = lovasz_hinge(y_pred, mask.to(device))\n",
    "        else:\n",
    "            loss = loss_fn(y_pred,mask.to(device))\n",
    "        iou = get_iou_vector(y_pred.cpu().detach().numpy() > 0.5, mask.numpy())\n",
    "\n",
    "        # Set model gradients to zero.\n",
    "        optimizer.zero_grad()\n",
    "        # Backpropagate the loss.\n",
    "        loss.backward()\n",
    "\n",
    "        # Perform single optimization step - parameter update\n",
    "        optimizer.step()\n",
    "        \n",
    "        # Append training loss\n",
    "        train_loss.append(loss.item())\n",
    "        train_iou.append(iou)\n",
    "        \n",
    "        if loss.item() < best_loss:\n",
    "            torch.save(model.state_dict(), 'uresnetv6e{}statef1bl.pt'.format(e))\n",
    "            best_loss = loss.item()\n",
    "\n",
    "    # Validation:\n",
    "    val_loss = []\n",
    "    val_iou = []\n",
    "    for image, mask in valid_loader:\n",
    "        \n",
    "        image = image.to(device)\n",
    "        y_pred = model(image)\n",
    "        \n",
    "        if lovasz:\n",
    "            loss = lovasz_hinge(y_pred, mask.to(device))\n",
    "        else:\n",
    "            loss = loss_fn(y_pred,mask.to(device))\n",
    "        iou = get_iou_vector(y_pred.cpu().detach().numpy() > 0.5, mask.numpy())\n",
    "        val_loss.append(loss.item())\n",
    "        val_iou.append(iou)\n",
    "\n",
    "    print(\"Epoch: %d, Train: %.3f, Val: %.3f, Train Accuracy: %.3f, Val Accuracy: %.3f, Best Loss: %.3f, Aug: %.3f\" %\n",
    "          (e, np.mean(train_loss), np.mean(val_loss), np.mean(train_iou), np.mean(val_iou), best_loss, aug))\n",
    "    # torch.save(model, 'uresnetv5e{}lov.pt'.format(e))\n",
    "    torch.save(model.state_dict(), 'uresnetv6e{}statef1.pt'.format(e))\n",
    "# torch.save(model, 'uresnetv5.pt')\n",
    "# torch.save(model.state_dict(), 'uresnetv6state.pt')"
   ]
  },
  {
   "cell_type": "code",
   "execution_count": 17,
   "metadata": {},
   "outputs": [
    {
     "data": {
      "application/vnd.jupyter.widget-view+json": {
       "model_id": "315e8a311c0f461d9d6faa38ea05817a",
       "version_major": 2,
       "version_minor": 0
      },
      "text/plain": [
       "HBox(children=(IntProgress(value=0, max=13), HTML(value='')))"
      ]
     },
     "metadata": {},
     "output_type": "display_data"
    },
    {
     "name": "stderr",
     "output_type": "stream",
     "text": [
      "/home/ubuntu/anaconda3/envs/pytorch_p36/lib/python3.6/site-packages/torch/nn/functional.py:1890: UserWarning: nn.functional.upsample is deprecated. Use nn.functional.interpolate instead.\n",
      "  warnings.warn(\"nn.functional.upsample is deprecated. Use nn.functional.interpolate instead.\")\n"
     ]
    },
    {
     "name": "stdout",
     "output_type": "stream",
     "text": [
      "\n",
      "Epoch: 0, Train: 1.638, Val: 1.533, Train Accuracy: 0.620, Val Accuracy: 0.627\n"
     ]
    },
    {
     "data": {
      "application/vnd.jupyter.widget-view+json": {
       "model_id": "e4209ff6d801408994d5abb4a985b053",
       "version_major": 2,
       "version_minor": 0
      },
      "text/plain": [
       "HBox(children=(IntProgress(value=0, max=13), HTML(value='')))"
      ]
     },
     "metadata": {},
     "output_type": "display_data"
    },
    {
     "name": "stdout",
     "output_type": "stream",
     "text": [
      "\n",
      "Epoch: 1, Train: 1.546, Val: 1.463, Train Accuracy: 0.632, Val Accuracy: 0.638\n"
     ]
    },
    {
     "data": {
      "application/vnd.jupyter.widget-view+json": {
       "model_id": "2253cdf0d8074ba6bbb499d94894184c",
       "version_major": 2,
       "version_minor": 0
      },
      "text/plain": [
       "HBox(children=(IntProgress(value=0, max=13), HTML(value='')))"
      ]
     },
     "metadata": {},
     "output_type": "display_data"
    },
    {
     "name": "stdout",
     "output_type": "stream",
     "text": [
      "\n",
      "Epoch: 2, Train: 1.480, Val: 1.426, Train Accuracy: 0.647, Val Accuracy: 0.650\n"
     ]
    },
    {
     "data": {
      "application/vnd.jupyter.widget-view+json": {
       "model_id": "48ebc41128f64b88868ab798ec166dcf",
       "version_major": 2,
       "version_minor": 0
      },
      "text/plain": [
       "HBox(children=(IntProgress(value=0, max=13), HTML(value='')))"
      ]
     },
     "metadata": {},
     "output_type": "display_data"
    },
    {
     "name": "stdout",
     "output_type": "stream",
     "text": [
      "\n",
      "Epoch: 3, Train: 1.477, Val: 1.415, Train Accuracy: 0.653, Val Accuracy: 0.653\n"
     ]
    },
    {
     "data": {
      "application/vnd.jupyter.widget-view+json": {
       "model_id": "741475ac9a974397949fbcca6b9b425f",
       "version_major": 2,
       "version_minor": 0
      },
      "text/plain": [
       "HBox(children=(IntProgress(value=0, max=13), HTML(value='')))"
      ]
     },
     "metadata": {},
     "output_type": "display_data"
    },
    {
     "name": "stdout",
     "output_type": "stream",
     "text": [
      "\n",
      "Epoch: 4, Train: 1.435, Val: 1.404, Train Accuracy: 0.655, Val Accuracy: 0.654\n"
     ]
    },
    {
     "data": {
      "application/vnd.jupyter.widget-view+json": {
       "model_id": "601fcfc8c2e44e0786e323ab5b40a577",
       "version_major": 2,
       "version_minor": 0
      },
      "text/plain": [
       "HBox(children=(IntProgress(value=0, max=13), HTML(value='')))"
      ]
     },
     "metadata": {},
     "output_type": "display_data"
    },
    {
     "name": "stdout",
     "output_type": "stream",
     "text": [
      "\n",
      "Epoch: 5, Train: 1.444, Val: 1.394, Train Accuracy: 0.653, Val Accuracy: 0.658\n"
     ]
    },
    {
     "data": {
      "application/vnd.jupyter.widget-view+json": {
       "model_id": "9774e410a0284d8ab6ee861d87392df2",
       "version_major": 2,
       "version_minor": 0
      },
      "text/plain": [
       "HBox(children=(IntProgress(value=0, max=13), HTML(value='')))"
      ]
     },
     "metadata": {},
     "output_type": "display_data"
    },
    {
     "name": "stdout",
     "output_type": "stream",
     "text": [
      "\n",
      "Epoch: 6, Train: 1.396, Val: 1.389, Train Accuracy: 0.663, Val Accuracy: 0.660\n"
     ]
    },
    {
     "data": {
      "application/vnd.jupyter.widget-view+json": {
       "model_id": "0a132e120aa54a119571a89f8b14f106",
       "version_major": 2,
       "version_minor": 0
      },
      "text/plain": [
       "HBox(children=(IntProgress(value=0, max=13), HTML(value='')))"
      ]
     },
     "metadata": {},
     "output_type": "display_data"
    },
    {
     "name": "stdout",
     "output_type": "stream",
     "text": [
      "\n",
      "Epoch: 7, Train: 1.407, Val: 1.388, Train Accuracy: 0.659, Val Accuracy: 0.656\n"
     ]
    },
    {
     "data": {
      "application/vnd.jupyter.widget-view+json": {
       "model_id": "0c46cd8699da45548c71f5eff6535f11",
       "version_major": 2,
       "version_minor": 0
      },
      "text/plain": [
       "HBox(children=(IntProgress(value=0, max=13), HTML(value='')))"
      ]
     },
     "metadata": {},
     "output_type": "display_data"
    },
    {
     "name": "stdout",
     "output_type": "stream",
     "text": [
      "\n",
      "Epoch: 8, Train: 1.390, Val: 1.386, Train Accuracy: 0.660, Val Accuracy: 0.659\n"
     ]
    },
    {
     "data": {
      "application/vnd.jupyter.widget-view+json": {
       "model_id": "4b60d72969574cb4a076ac9d3422ac94",
       "version_major": 2,
       "version_minor": 0
      },
      "text/plain": [
       "HBox(children=(IntProgress(value=0, max=13), HTML(value='')))"
      ]
     },
     "metadata": {},
     "output_type": "display_data"
    },
    {
     "name": "stdout",
     "output_type": "stream",
     "text": [
      "\n",
      "Epoch: 9, Train: 1.374, Val: 1.374, Train Accuracy: 0.660, Val Accuracy: 0.659\n"
     ]
    },
    {
     "data": {
      "application/vnd.jupyter.widget-view+json": {
       "model_id": "649c16a5f4cd455280097bbcb3a14e49",
       "version_major": 2,
       "version_minor": 0
      },
      "text/plain": [
       "HBox(children=(IntProgress(value=0, max=13), HTML(value='')))"
      ]
     },
     "metadata": {},
     "output_type": "display_data"
    },
    {
     "name": "stdout",
     "output_type": "stream",
     "text": [
      "\n",
      "Epoch: 10, Train: 1.392, Val: 1.385, Train Accuracy: 0.666, Val Accuracy: 0.658\n"
     ]
    },
    {
     "data": {
      "application/vnd.jupyter.widget-view+json": {
       "model_id": "9f0e94a0cbdd4baa9467d1d5ee0d68b1",
       "version_major": 2,
       "version_minor": 0
      },
      "text/plain": [
       "HBox(children=(IntProgress(value=0, max=13), HTML(value='')))"
      ]
     },
     "metadata": {},
     "output_type": "display_data"
    },
    {
     "name": "stdout",
     "output_type": "stream",
     "text": [
      "\n"
     ]
    },
    {
     "name": "stderr",
     "output_type": "stream",
     "text": [
      "Process Process-416:\n",
      "Process Process-413:\n",
      "Process Process-414:\n",
      "Process Process-415:\n",
      "Traceback (most recent call last):\n",
      "Traceback (most recent call last):\n",
      "  File \"/home/ubuntu/anaconda3/envs/pytorch_p36/lib/python3.6/multiprocessing/process.py\", line 258, in _bootstrap\n",
      "    self.run()\n",
      "Traceback (most recent call last):\n",
      "  File \"/home/ubuntu/anaconda3/envs/pytorch_p36/lib/python3.6/multiprocessing/process.py\", line 258, in _bootstrap\n",
      "    self.run()\n",
      "  File \"/home/ubuntu/anaconda3/envs/pytorch_p36/lib/python3.6/multiprocessing/process.py\", line 93, in run\n",
      "    self._target(*self._args, **self._kwargs)\n",
      "  File \"/home/ubuntu/anaconda3/envs/pytorch_p36/lib/python3.6/multiprocessing/process.py\", line 258, in _bootstrap\n",
      "    self.run()\n",
      "Traceback (most recent call last):\n",
      "  File \"/home/ubuntu/anaconda3/envs/pytorch_p36/lib/python3.6/site-packages/torch/utils/data/dataloader.py\", line 96, in _worker_loop\n",
      "    r = index_queue.get(timeout=MANAGER_STATUS_CHECK_INTERVAL)\n",
      "  File \"/home/ubuntu/anaconda3/envs/pytorch_p36/lib/python3.6/multiprocessing/process.py\", line 93, in run\n",
      "    self._target(*self._args, **self._kwargs)\n",
      "  File \"/home/ubuntu/anaconda3/envs/pytorch_p36/lib/python3.6/multiprocessing/process.py\", line 93, in run\n",
      "    self._target(*self._args, **self._kwargs)\n",
      "  File \"/home/ubuntu/anaconda3/envs/pytorch_p36/lib/python3.6/multiprocessing/process.py\", line 258, in _bootstrap\n",
      "    self.run()\n",
      "  File \"/home/ubuntu/anaconda3/envs/pytorch_p36/lib/python3.6/multiprocessing/queues.py\", line 104, in get\n",
      "    if not self._poll(timeout):\n",
      "  File \"/home/ubuntu/anaconda3/envs/pytorch_p36/lib/python3.6/site-packages/torch/utils/data/dataloader.py\", line 96, in _worker_loop\n",
      "    r = index_queue.get(timeout=MANAGER_STATUS_CHECK_INTERVAL)\n",
      "  File \"/home/ubuntu/anaconda3/envs/pytorch_p36/lib/python3.6/site-packages/torch/utils/data/dataloader.py\", line 96, in _worker_loop\n",
      "    r = index_queue.get(timeout=MANAGER_STATUS_CHECK_INTERVAL)\n",
      "  File \"/home/ubuntu/anaconda3/envs/pytorch_p36/lib/python3.6/multiprocessing/connection.py\", line 257, in poll\n",
      "    return self._poll(timeout)\n",
      "  File \"/home/ubuntu/anaconda3/envs/pytorch_p36/lib/python3.6/multiprocessing/process.py\", line 93, in run\n",
      "    self._target(*self._args, **self._kwargs)\n",
      "  File \"/home/ubuntu/anaconda3/envs/pytorch_p36/lib/python3.6/multiprocessing/queues.py\", line 104, in get\n",
      "    if not self._poll(timeout):\n",
      "  File \"/home/ubuntu/anaconda3/envs/pytorch_p36/lib/python3.6/multiprocessing/connection.py\", line 257, in poll\n",
      "    return self._poll(timeout)\n",
      "  File \"/home/ubuntu/anaconda3/envs/pytorch_p36/lib/python3.6/multiprocessing/queues.py\", line 104, in get\n",
      "    if not self._poll(timeout):\n",
      "  File \"/home/ubuntu/anaconda3/envs/pytorch_p36/lib/python3.6/multiprocessing/connection.py\", line 414, in _poll\n",
      "    r = wait([self], timeout)\n",
      "  File \"/home/ubuntu/anaconda3/envs/pytorch_p36/lib/python3.6/site-packages/torch/utils/data/dataloader.py\", line 96, in _worker_loop\n",
      "    r = index_queue.get(timeout=MANAGER_STATUS_CHECK_INTERVAL)\n",
      "  File \"/home/ubuntu/anaconda3/envs/pytorch_p36/lib/python3.6/multiprocessing/connection.py\", line 414, in _poll\n",
      "    r = wait([self], timeout)\n",
      "  File \"/home/ubuntu/anaconda3/envs/pytorch_p36/lib/python3.6/multiprocessing/connection.py\", line 911, in wait\n",
      "    ready = selector.select(timeout)\n",
      "  File \"/home/ubuntu/anaconda3/envs/pytorch_p36/lib/python3.6/multiprocessing/connection.py\", line 911, in wait\n",
      "    ready = selector.select(timeout)\n",
      "  File \"/home/ubuntu/anaconda3/envs/pytorch_p36/lib/python3.6/multiprocessing/connection.py\", line 257, in poll\n",
      "    return self._poll(timeout)\n",
      "  File \"/home/ubuntu/anaconda3/envs/pytorch_p36/lib/python3.6/multiprocessing/connection.py\", line 414, in _poll\n",
      "    r = wait([self], timeout)\n",
      "  File \"/home/ubuntu/anaconda3/envs/pytorch_p36/lib/python3.6/selectors.py\", line 376, in select\n",
      "    fd_event_list = self._poll.poll(timeout)\n",
      "  File \"/home/ubuntu/anaconda3/envs/pytorch_p36/lib/python3.6/multiprocessing/queues.py\", line 104, in get\n",
      "    if not self._poll(timeout):\n",
      "KeyboardInterrupt\n",
      "  File \"/home/ubuntu/anaconda3/envs/pytorch_p36/lib/python3.6/multiprocessing/connection.py\", line 911, in wait\n",
      "    ready = selector.select(timeout)\n",
      "  File \"/home/ubuntu/anaconda3/envs/pytorch_p36/lib/python3.6/selectors.py\", line 376, in select\n",
      "    fd_event_list = self._poll.poll(timeout)\n",
      "  File \"/home/ubuntu/anaconda3/envs/pytorch_p36/lib/python3.6/selectors.py\", line 376, in select\n",
      "    fd_event_list = self._poll.poll(timeout)\n",
      "  File \"/home/ubuntu/anaconda3/envs/pytorch_p36/lib/python3.6/multiprocessing/connection.py\", line 257, in poll\n",
      "    return self._poll(timeout)\n",
      "  File \"/home/ubuntu/anaconda3/envs/pytorch_p36/lib/python3.6/multiprocessing/connection.py\", line 414, in _poll\n",
      "    r = wait([self], timeout)\n",
      "KeyboardInterrupt\n",
      "KeyboardInterrupt\n",
      "  File \"/home/ubuntu/anaconda3/envs/pytorch_p36/lib/python3.6/multiprocessing/connection.py\", line 911, in wait\n",
      "    ready = selector.select(timeout)\n",
      "  File \"/home/ubuntu/anaconda3/envs/pytorch_p36/lib/python3.6/selectors.py\", line 376, in select\n",
      "    fd_event_list = self._poll.poll(timeout)\n",
      "KeyboardInterrupt\n",
      "Exception ignored in: <bound method _DataLoaderIter.__del__ of <torch.utils.data.dataloader._DataLoaderIter object at 0x7fb5c4d01ef0>>\n",
      "Traceback (most recent call last):\n",
      "  File \"/home/ubuntu/anaconda3/envs/pytorch_p36/lib/python3.6/site-packages/torch/utils/data/dataloader.py\", line 397, in __del__\n",
      "    def __del__(self):\n",
      "  File \"/home/ubuntu/anaconda3/envs/pytorch_p36/lib/python3.6/site-packages/torch/utils/data/dataloader.py\", line 227, in handler\n",
      "    _error_if_any_worker_fails()\n",
      "RuntimeError: DataLoader worker (pid 10400) exited unexpectedly with exit code 1. Details are lost due to multiprocessing. Rerunning with num_workers=0 may give better error trace.\n"
     ]
    },
    {
     "ename": "KeyboardInterrupt",
     "evalue": "",
     "output_type": "error",
     "traceback": [
      "\u001b[0;31m---------------------------------------------------------------------------\u001b[0m",
      "\u001b[0;31mKeyboardInterrupt\u001b[0m                         Traceback (most recent call last)",
      "\u001b[0;32m<ipython-input-17-41915ab02663>\u001b[0m in \u001b[0;36m<module>\u001b[0;34m()\u001b[0m\n\u001b[1;32m     60\u001b[0m \u001b[0;34m\u001b[0m\u001b[0m\n\u001b[1;32m     61\u001b[0m         \u001b[0;32mif\u001b[0m \u001b[0mlovasz\u001b[0m\u001b[0;34m:\u001b[0m\u001b[0;34m\u001b[0m\u001b[0m\n\u001b[0;32m---> 62\u001b[0;31m             \u001b[0mloss\u001b[0m \u001b[0;34m=\u001b[0m \u001b[0mlovasz_hinge\u001b[0m\u001b[0;34m(\u001b[0m\u001b[0my_pred\u001b[0m\u001b[0;34m,\u001b[0m \u001b[0mmask\u001b[0m\u001b[0;34m.\u001b[0m\u001b[0mto\u001b[0m\u001b[0;34m(\u001b[0m\u001b[0mdevice\u001b[0m\u001b[0;34m)\u001b[0m\u001b[0;34m)\u001b[0m\u001b[0;34m\u001b[0m\u001b[0m\n\u001b[0m\u001b[1;32m     63\u001b[0m         \u001b[0;32melse\u001b[0m\u001b[0;34m:\u001b[0m\u001b[0;34m\u001b[0m\u001b[0m\n\u001b[1;32m     64\u001b[0m             \u001b[0mloss\u001b[0m \u001b[0;34m=\u001b[0m \u001b[0mloss_fn\u001b[0m\u001b[0;34m(\u001b[0m\u001b[0my_pred\u001b[0m\u001b[0;34m,\u001b[0m\u001b[0mmask\u001b[0m\u001b[0;34m.\u001b[0m\u001b[0mto\u001b[0m\u001b[0;34m(\u001b[0m\u001b[0mdevice\u001b[0m\u001b[0;34m)\u001b[0m\u001b[0;34m)\u001b[0m\u001b[0;34m\u001b[0m\u001b[0m\n",
      "\u001b[0;31mKeyboardInterrupt\u001b[0m: "
     ]
    }
   ],
   "source": [
    "# import gc\n",
    "# from torch.autograd import Variable\n",
    "# from torch.optim.lr_scheduler import CosineAnnealingLR\n",
    "# gc.collect()\n",
    "\n",
    "# # Set Binary Crossentropy as loss function.\n",
    "# loss_fn = torch.nn.BCEWithLogitsLoss()\n",
    "\n",
    "# lovasz = True\n",
    "\n",
    "# # Set optimizer.\n",
    "# learning_rate = 1e-4\n",
    "# # optimizer = torch.optim.Adam(model.parameters(), lr=learning_rate)\n",
    "# optimizer = torch.optim.SGD(model.parameters(), lr=learning_rate, momentum = 0.9, weight_decay = 0.001)\n",
    "# scheduler = CosineAnnealingLR(optimizer, T_max = 100)\n",
    "\n",
    "\n",
    "# # Train for n epochs\n",
    "# n = 40\n",
    "# for e in range(n):\n",
    "\n",
    "#     # Training:\n",
    "#     train_loss = []\n",
    "#     train_iou = []\n",
    "#     for image, mask in tqdm_notebook(valid_loader):\n",
    "        \n",
    "#         gc.collect()\n",
    "        \n",
    "#         # Put image on chosen device\n",
    "#         image = image.type(torch.float).to(device)\n",
    "#         # Predict with model:\n",
    "#         y_pred = model(image)\n",
    "        \n",
    "#         # Compute loss between true and predicted values\n",
    "#         if lovasz:\n",
    "#             loss = lovasz_hinge(y_pred, mask.to(device))\n",
    "#         else:\n",
    "#             loss = loss_fn(y_pred,mask.to(device))\n",
    "#         iou = get_iou_vector(y_pred.cpu().detach().numpy() > 0.5, mask.numpy())\n",
    "\n",
    "#         # Set model gradients to zero.\n",
    "#         optimizer.zero_grad()\n",
    "#         # Backpropagate the loss.\n",
    "#         loss.backward()\n",
    "\n",
    "#         # Perform single optimization step - parameter update\n",
    "#         optimizer.step()\n",
    "        \n",
    "#         # Append training loss\n",
    "#         train_loss.append(loss.item())\n",
    "#         train_iou.append(iou)\n",
    "\n",
    "#     # Validation:\n",
    "#     val_loss = []\n",
    "#     val_iou = []\n",
    "#     for image, mask in train_loader:\n",
    "        \n",
    "#         image = image.to(device)\n",
    "#         y_pred = model(image)\n",
    "        \n",
    "#         if lovasz:\n",
    "#             loss = lovasz_hinge(y_pred, mask.to(device))\n",
    "#         else:\n",
    "#             loss = loss_fn(y_pred,mask.to(device))\n",
    "#         iou = get_iou_vector(y_pred.cpu().detach().numpy() > 0.5, mask.numpy())\n",
    "#         val_loss.append(loss.item())\n",
    "#         val_iou.append(iou)\n",
    "\n",
    "#     print(\"Epoch: %d, Train: %.3f, Val: %.3f, Train Accuracy: %.3f, Val Accuracy: %.3f\" %\n",
    "#           (e, np.mean(train_loss), np.mean(val_loss), np.mean(train_iou), np.mean(val_iou)))\n",
    "#     # torch.save(model, 'uresnetv5e{}lov.pt'.format(e))\n",
    "#     torch.save(model.state_dict(), 'uresnetv6e{}statef2.pt'.format(e))\n",
    "# # torch.save(model, 'uresnetv5.pt')\n",
    "# # torch.save(model.state_dict(), 'uresnetv6state.pt')"
   ]
  },
  {
   "cell_type": "markdown",
   "metadata": {},
   "source": [
    "__Figure out best threshold:__"
   ]
  },
  {
   "cell_type": "code",
   "execution_count": 32,
   "metadata": {},
   "outputs": [
    {
     "data": {
      "application/vnd.jupyter.widget-view+json": {
       "model_id": "436056d0dac945e88261dd5a7120ce0d",
       "version_major": 2,
       "version_minor": 0
      },
      "text/plain": [
       "HBox(children=(IntProgress(value=0, max=30), HTML(value='')))"
      ]
     },
     "metadata": {},
     "output_type": "display_data"
    },
    {
     "name": "stderr",
     "output_type": "stream",
     "text": [
      "/home/ubuntu/anaconda3/envs/pytorch_p36/lib/python3.6/site-packages/torch/nn/functional.py:1890: UserWarning: nn.functional.upsample is deprecated. Use nn.functional.interpolate instead.\n",
      "  warnings.warn(\"nn.functional.upsample is deprecated. Use nn.functional.interpolate instead.\")\n"
     ]
    },
    {
     "data": {
      "text/plain": [
       "<matplotlib.legend.Legend at 0x7f148c759f28>"
      ]
     },
     "execution_count": 32,
     "metadata": {},
     "output_type": "execute_result"
    },
    {
     "data": {
      "image/png": "[encoded data removed]",
      "text/plain": [
       "<Figure size 432x288 with 1 Axes>"
      ]
     },
     "metadata": {
      "needs_background": "light"
     },
     "output_type": "display_data"
    }
   ],
   "source": [
    "thresholds = np.linspace(0.3,0.7,30)\n",
    "ious = []\n",
    "for threshold in tqdm_notebook(thresholds):\n",
    "    threshold_iou = []\n",
    "    for image, mask in valid_loader:\n",
    "        image = image.to(device)\n",
    "        y_pred = model(image)\n",
    "        iou = get_iou_vector(y_pred.cpu().detach().numpy() > threshold, mask.numpy())\n",
    "        threshold_iou.append(iou)\n",
    "    ious.append(np.mean(threshold_iou))\n",
    "\n",
    "# instead of using default 0 as threshold, use validation data to find the best threshold.\n",
    "threshold_best_index = np.argmax(ious) \n",
    "iou_best = ious[threshold_best_index]\n",
    "threshold_best = thresholds[threshold_best_index]\n",
    "\n",
    "plt.plot(thresholds, ious)\n",
    "plt.plot(threshold_best, iou_best, \"xr\", label=\"Best threshold\")\n",
    "plt.xlabel(\"Threshold\")\n",
    "plt.ylabel(\"IoU\")\n",
    "plt.title(\"Threshold vs IoU ({}, {})\".format(threshold_best, iou_best))\n",
    "plt.legend()\n"
   ]
  },
  {
   "cell_type": "markdown",
   "metadata": {},
   "source": [
    "# Test Prediction:"
   ]
  },
  {
   "cell_type": "code",
   "execution_count": 16,
   "metadata": {},
   "outputs": [
    {
     "data": {
      "application/vnd.jupyter.widget-view+json": {
       "model_id": "b6cf7403c6f345f685c1afbd8e57864a",
       "version_major": 2,
       "version_minor": 0
      },
      "text/plain": [
       "HBox(children=(IntProgress(value=0, max=563), HTML(value='')))"
      ]
     },
     "metadata": {},
     "output_type": "display_data"
    },
    {
     "name": "stderr",
     "output_type": "stream",
     "text": [
      "/home/ubuntu/anaconda3/envs/pytorch_p36/lib/python3.6/site-packages/torch/nn/functional.py:1890: UserWarning: nn.functional.upsample is deprecated. Use nn.functional.interpolate instead.\n",
      "  warnings.warn(\"nn.functional.upsample is deprecated. Use nn.functional.interpolate instead.\")\n"
     ]
    },
    {
     "name": "stdout",
     "output_type": "stream",
     "text": [
      "\n",
      "(18000, 128, 128)\n"
     ]
    }
   ],
   "source": [
    "test_predictions = []\n",
    "test_predictions_reflect = []\n",
    "\n",
    "for image in tqdm_notebook(test_loader):\n",
    "    image_flipped = image[0].cpu().detach().numpy()\n",
    "    image_flipped = np.flip(image_flipped, 3).copy()\n",
    "    image_flipped = torch.from_numpy(image_flipped)\n",
    "    image = image[0].type(torch.float).to(device)\n",
    "    y_pred = model(image).cpu().detach().numpy()\n",
    "    image_flipped = image_flipped.type(torch.float).to(device)\n",
    "    y_pred_flipped = model(image_flipped).cpu().detach().numpy()\n",
    "    test_predictions.append(y_pred)\n",
    "    test_predictions_reflect.append(y_pred_flipped)\n",
    "\n",
    "test_predictions_stacked = np.vstack(test_predictions)[:, 0, :, :]\n",
    "test_predictions_reflect_stacked = np.vstack(test_predictions_reflect)[:, 0, :, ::-1]\n",
    "\n",
    "test_predictions_stacked = (test_predictions_stacked + test_predictions_reflect_stacked)/2\n",
    "test_predictions_stacked = test_predictions_stacked[:, y_min_pad:-y_max_pad, x_min_pad:-x_max_pad]\n",
    "print(test_predictions_stacked.shape)\n",
    "\n"
   ]
  },
  {
   "cell_type": "code",
   "execution_count": 39,
   "metadata": {},
   "outputs": [
    {
     "data": {
      "application/vnd.jupyter.widget-view+json": {
       "model_id": "4a98107db4134d4f8daf9e6654780123",
       "version_major": 2,
       "version_minor": 0
      },
      "text/plain": [
       "HBox(children=(IntProgress(value=0, max=563), HTML(value='')))"
      ]
     },
     "metadata": {},
     "output_type": "display_data"
    },
    {
     "name": "stderr",
     "output_type": "stream",
     "text": [
      "/home/ubuntu/anaconda3/envs/pytorch_p36/lib/python3.6/site-packages/torch/nn/functional.py:1890: UserWarning: nn.functional.upsample is deprecated. Use nn.functional.interpolate instead.\n",
      "  warnings.warn(\"nn.functional.upsample is deprecated. Use nn.functional.interpolate instead.\")\n"
     ]
    },
    {
     "name": "stdout",
     "output_type": "stream",
     "text": [
      "(18000, 101, 101)\n"
     ]
    }
   ],
   "source": [
    "test_predictions = []\n",
    "# Original way (no TTA)\n",
    "for image in tqdm_notebook(test_loader):\n",
    "    image = image[0].type(torch.float).to(device)\n",
    "    # model.load_state_dict(torch.load('uresnetv6e2statef1.pt'))\n",
    "    y_pred1 = model(image).cpu().detach().numpy()\n",
    "    #model.load_state_dict(torch.load('uresnetv6e0statef2.pt'))\n",
    "    #y_pred2 = model(image).cpu().detach().numpy()/2\n",
    "    test_predictions.append(y_pred1)\n",
    "\n",
    "    \n",
    "test_predictions_stacked = np.vstack(test_predictions)[:, 0, :, :]\n",
    "test_predictions_stacked = test_predictions_stacked[:, y_min_pad:-y_max_pad, x_min_pad:-x_max_pad]\n",
    "\n",
    "print(test_predictions_stacked.shape)\n"
   ]
  },
  {
   "cell_type": "markdown",
   "metadata": {},
   "source": [
    "__Prepare submission:__"
   ]
  },
  {
   "cell_type": "code",
   "execution_count": 40,
   "metadata": {},
   "outputs": [
    {
     "data": {
      "application/vnd.jupyter.widget-view+json": {
       "model_id": "4df7bde2f9ad461286d80b18f66ecb5d",
       "version_major": 2,
       "version_minor": 0
      },
      "text/plain": [
       "HBox(children=(IntProgress(value=0, max=18000), HTML(value='')))"
      ]
     },
     "metadata": {},
     "output_type": "display_data"
    }
   ],
   "source": [
    "def rle_encode(im):\n",
    "    pixels = im.flatten(order='F')\n",
    "    pixels = np.concatenate([[0], pixels, [0]])\n",
    "    runs = np.where(pixels[1:] != pixels[:-1])[0] + 1\n",
    "    runs[1::2] -= runs[::2]\n",
    "    return ' '.join(str(x) for x in runs)\n",
    "\n",
    "\n",
    "# To perform RLE, predictions must be in binary integer (0/1) format.\n",
    "binary_prediction = (test_predictions_stacked > 0.465).astype(int)\n",
    "\n",
    "# RLE encoding.\n",
    "all_masks = {idx:rle_encode(binary_prediction[i])\n",
    "                           for i, idx in enumerate(\n",
    "                               tqdm_notebook(test_ids))}"
   ]
  },
  {
   "cell_type": "code",
   "execution_count": 41,
   "metadata": {},
   "outputs": [],
   "source": [
    "submission = pd.DataFrame.from_dict(all_masks, orient='index')\n",
    "submission.index.names = ['id']\n",
    "submission.columns = ['rle_mask']\n",
    "submission.to_csv('submission.csv')"
   ]
  },
  {
   "cell_type": "code",
   "execution_count": null,
   "metadata": {},
   "outputs": [],
   "source": []
  }
 ],
 "metadata": {
  "kernelspec": {
   "display_name": "Environment (conda_pytorch_p36)",
   "language": "python",
   "name": "conda_pytorch_p36"
  },
  "language_info": {
   "codemirror_mode": {
    "name": "ipython",
    "version": 3
   },
   "file_extension": ".py",
   "mimetype": "text/x-python",
   "name": "python",
   "nbconvert_exporter": "python",
   "pygments_lexer": "ipython3",
   "version": "3.6.6"
  }
 },
 "nbformat": 4,
 "nbformat_minor": 2
}
